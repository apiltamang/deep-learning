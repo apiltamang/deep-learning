{
 "cells": [
  {
   "cell_type": "markdown",
   "metadata": {},
   "source": [
    "# Anna KaRNNa\n",
    "\n",
    "In this notebook, I'll build a character-wise RNN trained on Anna Karenina, one of my all-time favorite books. It'll be able to generate new text based on the text from the book.\n",
    "\n",
    "This network is based off of Andrej Karpathy's [post on RNNs](http://karpathy.github.io/2015/05/21/rnn-effectiveness/) and [implementation in Torch](https://github.com/karpathy/char-rnn). Also, some information [here at r2rt](http://r2rt.com/recurrent-neural-networks-in-tensorflow-ii.html) and from [Sherjil Ozair](https://github.com/sherjilozair/char-rnn-tensorflow) on GitHub. Below is the general architecture of the character-wise RNN.\n",
    "\n",
    "<img src=\"assets/charseq.jpeg\" width=\"500\">"
   ]
  },
  {
   "cell_type": "code",
   "execution_count": 8,
   "metadata": {
    "collapsed": false,
    "deletable": true,
    "editable": true
   },
   "outputs": [],
   "source": [
    "import time\n",
    "from collections import namedtuple\n",
    "\n",
    "import numpy as np\n",
    "import tensorflow as tf"
   ]
  },
  {
   "cell_type": "markdown",
   "metadata": {},
   "source": [
    "First we'll load the text file and convert it into integers for our network to use. Here I'm creating a couple dictionaries to convert the characters to and from integers. Encoding the characters as integers makes it easier to use as input in the network."
   ]
  },
  {
   "cell_type": "code",
   "execution_count": 9,
   "metadata": {
    "collapsed": false
   },
   "outputs": [
    {
     "name": "stdout",
     "output_type": "stream",
     "text": [
      "{':': 0, 'F': 73, '%': 1, 'G': 70, 'P': 63, '*': 61, 'g': 2, ';': 53, '1': 4, 'M': 5, '`': 7, 'I': 59, 'O': 8, 'l': 9, 'D': 69, 'p': 11, '6': 12, '4': 14, '\"': 58, '0': 6, '-': 15, 'Y': 75, 'L': 13, '8': 18, ',': 45, '2': 19, \"'\": 20, 't': 54, 'd': 21, '$': 24, 'X': 23, 'S': 3, 'f': 78, 'N': 26, 'u': 27, 'W': 28, 'V': 29, 'E': 31, '&': 32, 's': 33, 'Q': 37, '/': 38, 'K': 36, '?': 76, '.': 39, '!': 41, 'm': 42, 'e': 30, 'b': 43, 'r': 44, 'T': 46, 'x': 47, '\\n': 48, 'B': 49, 'v': 50, '@': 80, 'A': 17, 'y': 79, 'k': 51, 'a': 52, '7': 16, 'h': 55, 'H': 56, '_': 81, '9': 71, 'o': 60, 'c': 62, 'R': 40, 'C': 34, '5': 64, ')': 67, '3': 35, 'w': 66, 'q': 68, ' ': 72, 'J': 77, 'j': 74, 'n': 57, 'z': 10, 'U': 25, 'Z': 65, '(': 22, 'i': 82}\n"
     ]
    }
   ],
   "source": [
    "with open('anna.txt', 'r') as f:\n",
    "    text=f.read()\n",
    "vocab = set(text)\n",
    "#print (len(vocab))\n",
    "\n",
    "vocab_to_int = {c: i for i, c in enumerate(vocab)}\n",
    "print(vocab_to_int)\n",
    "\n",
    "int_to_vocab = dict(enumerate(vocab))\n",
    "#print(int_to_vocab)\n",
    "\n",
    "chars = np.array([vocab_to_int[c] for c in text], dtype=np.int32)\n",
    "#print (chars)"
   ]
  },
  {
   "cell_type": "markdown",
   "metadata": {},
   "source": [
    "Let's check out the first 100 characters, make sure everything is peachy. According to the [American Book Review](http://americanbookreview.org/100bestlines.asp), this is the 6th best first line of a book ever."
   ]
  },
  {
   "cell_type": "code",
   "execution_count": 10,
   "metadata": {
    "collapsed": false
   },
   "outputs": [
    {
     "data": {
      "text/plain": [
       "'Chapter 1\\n\\n\\nHappy families are all alike; every unhappy family is unhappy in its own\\nway.\\n\\nEverythin'"
      ]
     },
     "execution_count": 10,
     "metadata": {},
     "output_type": "execute_result"
    }
   ],
   "source": [
    "text[:100]"
   ]
  },
  {
   "cell_type": "markdown",
   "metadata": {},
   "source": [
    "And we can see the characters encoded as integers."
   ]
  },
  {
   "cell_type": "code",
   "execution_count": 11,
   "metadata": {
    "collapsed": false
   },
   "outputs": [
    {
     "data": {
      "text/plain": [
       "array([34, 55, 52, 11, 54, 30, 44, 72,  4, 48, 48, 48, 56, 52, 11, 11, 79,\n",
       "       72, 78, 52, 42, 82,  9, 82, 30, 33, 72, 52, 44, 30, 72, 52,  9,  9,\n",
       "       72, 52,  9, 82, 51, 30, 53, 72, 30, 50, 30, 44, 79, 72, 27, 57, 55,\n",
       "       52, 11, 11, 79, 72, 78, 52, 42, 82,  9, 79, 72, 82, 33, 72, 27, 57,\n",
       "       55, 52, 11, 11, 79, 72, 82, 57, 72, 82, 54, 33, 72, 60, 66, 57, 48,\n",
       "       66, 52, 79, 39, 48, 48, 31, 50, 30, 44, 79, 54, 55, 82, 57], dtype=int32)"
      ]
     },
     "execution_count": 11,
     "metadata": {},
     "output_type": "execute_result"
    }
   ],
   "source": [
    "chars[:100]"
   ]
  },
  {
   "cell_type": "markdown",
   "metadata": {},
   "source": [
    "## Making training and validation batches\n",
    "\n",
    "Now I need to split up the data into batches, and into training and validation sets. I should be making a test set here, but I'm not going to worry about that. My test will be if the network can generate new text.\n",
    "\n",
    "Here I'll make both input and target arrays. The targets are the same as the inputs, except shifted one character over. I'll also drop the last bit of data so that I'll only have completely full batches.\n",
    "\n",
    "The idea here is to make a 2D matrix where the number of rows is equal to the batch size. Each row will be one long concatenated string from the character data. We'll split this data into a training set and validation set using the `split_frac` keyword. This will keep 90% of the batches in the training set, the other 10% in the validation set."
   ]
  },
  {
   "cell_type": "code",
   "execution_count": 12,
   "metadata": {
    "collapsed": false
   },
   "outputs": [
    {
     "name": "stdout",
     "output_type": "stream",
     "text": [
      "size (chars) 1985223\n",
      "batch_size:  10  num_steps:  50  split_frac:  0.9\n",
      "slice_size:  500\n",
      "num_batches:  3970\n",
      "x:  [34 55 52 ..., 82 60 57] len:  1985000\n",
      "y:  [55 52 11 ..., 60 57 72] len:  1985000\n",
      "x: \n",
      " [[34 55 52 ..., 45 72 59]\n",
      " [72 52 42 ..., 72 13 30]\n",
      " [50 82 57 ..., 30 50 82]\n",
      " ..., \n",
      " [53 72 43 ..., 79 72 82]\n",
      " [54 72 82 ..., 33 55 30]\n",
      " [72 33 52 ..., 82 60 57]]  shape:  (10, 198500)\n",
      "y: \n",
      " [[55 52 11 ..., 72 59 72]\n",
      " [52 42 72 ..., 13 30 50]\n",
      " [82 57 39 ..., 50 82 57]\n",
      " ..., \n",
      " [72 43 27 ..., 72 82 54]\n",
      " [72 82 33 ..., 55 30 72]\n",
      " [33 52 82 ..., 60 57 72]]  shape:  (10, 198500)\n",
      "split_size:  3573\n",
      "reduced_x_y for training:  178650\n",
      "train_x: \n",
      " [[34 55 52 ..., 72 42 30]\n",
      " [72 52 42 ..., 33 54 52]\n",
      " [50 82 57 ..., 52 79 39]\n",
      " ..., \n",
      " [53 72 43 ..., 60 50 82]\n",
      " [54 72 82 ..., 33 54 52]\n",
      " [72 33 52 ..., 11 27 54]]  shape:  (10, 178650)\n",
      "train_y: \n",
      " [[55 52 11 ..., 42 30 45]\n",
      " [52 42 72 ..., 54 52 44]\n",
      " [82 57 39 ..., 79 39 48]\n",
      " ..., \n",
      " [72 43 27 ..., 50 82 54]\n",
      " [72 82 33 ..., 54 52 54]\n",
      " [33 52 82 ..., 27 54 72]]  shape:  (10, 178650)\n",
      "val_x: \n",
      " [[34 55 52 ..., 72 42 30]\n",
      " [72 52 42 ..., 33 54 52]\n",
      " [50 82 57 ..., 52 79 39]\n",
      " ..., \n",
      " [53 72 43 ..., 60 50 82]\n",
      " [54 72 82 ..., 33 54 52]\n",
      " [72 33 52 ..., 11 27 54]]  shape:  (10, 19850)\n",
      "val_y: \n",
      " [[55 52 11 ..., 42 30 45]\n",
      " [52 42 72 ..., 54 52 44]\n",
      " [82 57 39 ..., 79 39 48]\n",
      " ..., \n",
      " [72 43 27 ..., 50 82 54]\n",
      " [72 82 33 ..., 54 52 54]\n",
      " [33 52 82 ..., 27 54 72]]  shape:  (10, 19850)\n"
     ]
    }
   ],
   "source": [
    "def split_data(chars, batch_size, num_steps, split_frac=0.9):\n",
    "    \"\"\" \n",
    "    Split character data into training and validation sets, inputs and targets for each set.\n",
    "    \n",
    "    Arguments\n",
    "    ---------\n",
    "    chars: character array\n",
    "    batch_size: Size of examples in each of batch\n",
    "    num_steps: Number of sequence steps to keep in the input and pass to the network\n",
    "    split_frac: Fraction of batches to keep in the training set\n",
    "    \n",
    "    \n",
    "    Returns train_x, train_y, val_x, val_y\n",
    "    \"\"\"\n",
    "    print(\"size (chars)\",len(chars))\n",
    "    print(\"batch_size: \",batch_size, \" num_steps: \",num_steps, \" split_frac: \",split_frac)\n",
    "    \n",
    "    slice_size = batch_size * num_steps\n",
    "    print(\"slice_size: \",slice_size)\n",
    "    \n",
    "    n_batches = int(len(chars) / slice_size)\n",
    "    print(\"num_batches: \",n_batches)\n",
    "    \n",
    "    # Drop the last few characters to make only full batches\n",
    "    x = chars[: n_batches*slice_size]\n",
    "    print(\"x: \",x, \"len: \",len(x))\n",
    "    \n",
    "    y = chars[1: n_batches*slice_size + 1]\n",
    "    print(\"y: \",y, \"len: \",len(y))\n",
    "    \n",
    "    # Split the data into batch_size slices, then stack them into a 2D matrix \n",
    "    x = np.stack(np.split(x, batch_size))\n",
    "    print(\"x: \\n\",x, \" shape: \",x.shape)\n",
    "    \n",
    "    y = np.stack(np.split(y, batch_size))\n",
    "    print(\"y: \\n\",y, \" shape: \",y.shape)\n",
    "    # Now x and y are arrays with dimensions batch_size x n_batches*num_steps\n",
    "    \n",
    "    # Split into training and validation sets, keep the virst split_frac batches for training\n",
    "    split_idx = int(n_batches*split_frac)\n",
    "    print(\"split_size: \",split_idx)\n",
    "    print(\"reduced_x_y for training: \",split_idx*num_steps)\n",
    "    \n",
    "    train_x, train_y= x[:, :split_idx*num_steps], y[:, :split_idx*num_steps]\n",
    "    print(\"train_x: \\n\",train_x,\" shape: \",train_x.shape)\n",
    "    print(\"train_y: \\n\",train_y,\" shape: \",train_y.shape)\n",
    "    \n",
    "    val_x, val_y = x[:, split_idx*num_steps:], y[:, split_idx*num_steps:]\n",
    "    print(\"val_x: \\n\",train_x,\" shape: \",val_x.shape)\n",
    "    print(\"val_y: \\n\",train_y,\" shape: \",val_y.shape)\n",
    "    \n",
    "    return train_x, train_y, val_x, val_y\n",
    "\n",
    "#Now I'll make my data sets and we can check out what's going on here. Here I'm going to use a batch size of 10 and 50 sequence steps.\n",
    "train_x, train_y, val_x, val_y = split_data(chars, batch_size=10, num_steps=50)"
   ]
  },
  {
   "cell_type": "code",
   "execution_count": 13,
   "metadata": {
    "collapsed": false
   },
   "outputs": [
    {
     "data": {
      "text/plain": [
       "(10, 178650)"
      ]
     },
     "execution_count": 13,
     "metadata": {},
     "output_type": "execute_result"
    }
   ],
   "source": [
    "train_x.shape"
   ]
  },
  {
   "cell_type": "markdown",
   "metadata": {},
   "source": [
    "Looking at the size of this array, we see that we have rows equal to the batch size. When we want to get a batch out of here, we can grab a subset of this array that contains all the rows but has a width equal to the number of steps in the sequence. The first batch looks like this:"
   ]
  },
  {
   "cell_type": "code",
   "execution_count": 14,
   "metadata": {
    "collapsed": false
   },
   "outputs": [
    {
     "data": {
      "text/plain": [
       "array([[34, 55, 52, 11, 54, 30, 44, 72,  4, 48, 48, 48, 56, 52, 11, 11, 79,\n",
       "        72, 78, 52, 42, 82,  9, 82, 30, 33, 72, 52, 44, 30, 72, 52,  9,  9,\n",
       "        72, 52,  9, 82, 51, 30, 53, 72, 30, 50, 30, 44, 79, 72, 27, 57],\n",
       "       [72, 52, 42, 72, 57, 60, 54, 72,  2, 60, 82, 57,  2, 72, 54, 60, 72,\n",
       "        33, 54, 52, 79, 45, 58, 72, 52, 57, 33, 66, 30, 44, 30, 21, 72, 17,\n",
       "        57, 57, 52, 45, 72, 33, 42, 82,  9, 82, 57,  2, 45, 72, 43, 27],\n",
       "       [50, 82, 57, 39, 48, 48, 58, 75, 30, 33, 45, 72, 82, 54, 20, 33, 72,\n",
       "        33, 30, 54, 54,  9, 30, 21, 39, 72, 46, 55, 30, 72, 11, 44, 82, 62,\n",
       "        30, 72, 82, 33, 72, 42, 52,  2, 57, 82, 78, 82, 62, 30, 57, 54],\n",
       "       [57, 72, 21, 27, 44, 82, 57,  2, 72, 55, 82, 33, 72, 62, 60, 57, 50,\n",
       "        30, 44, 33, 52, 54, 82, 60, 57, 72, 66, 82, 54, 55, 72, 55, 82, 33,\n",
       "        48, 43, 44, 60, 54, 55, 30, 44, 72, 66, 52, 33, 72, 54, 55, 82],\n",
       "       [72, 82, 54, 72, 82, 33, 45, 72, 33, 82, 44, 41, 58, 72, 33, 52, 82,\n",
       "        21, 72, 54, 55, 30, 72, 60,  9, 21, 72, 42, 52, 57, 45, 72,  2, 30,\n",
       "        54, 54, 82, 57,  2, 72, 27, 11, 45, 72, 52, 57, 21, 48, 62, 44],\n",
       "       [72, 59, 54, 72, 66, 52, 33, 48, 60, 57,  9, 79, 72, 66, 55, 30, 57,\n",
       "        72, 54, 55, 30, 72, 33, 52, 42, 30, 72, 30, 50, 30, 57, 82, 57,  2,\n",
       "        72, 55, 30, 72, 62, 52, 42, 30, 72, 54, 60, 72, 54, 55, 30, 82],\n",
       "       [55, 30, 57, 72, 62, 60, 42, 30, 72, 78, 60, 44, 72, 42, 30, 45, 58,\n",
       "        72, 33, 55, 30, 72, 33, 52, 82, 21, 45, 72, 52, 57, 21, 72, 66, 30,\n",
       "        57, 54, 72, 43, 52, 62, 51, 72, 82, 57, 54, 60, 72, 54, 55, 30],\n",
       "       [53, 72, 43, 27, 54, 72, 57, 60, 66, 72, 33, 55, 30, 72, 66, 60, 27,\n",
       "         9, 21, 72, 44, 30, 52, 21, 82,  9, 79, 72, 55, 52, 50, 30, 72, 33,\n",
       "        52, 62, 44, 82, 78, 82, 62, 30, 21, 45, 72, 57, 60, 54, 72, 42],\n",
       "       [54, 72, 82, 33, 57, 20, 54, 39, 72, 46, 55, 30, 79, 20, 44, 30, 72,\n",
       "        11, 44, 60, 11, 44, 82, 30, 54, 60, 44, 33, 72, 60, 78, 72, 52, 72,\n",
       "        33, 60, 44, 54, 45, 48, 43, 27, 54, 72, 66, 30, 20, 44, 30, 72],\n",
       "       [72, 33, 52, 82, 21, 72, 54, 60, 72, 55, 30, 44, 33, 30,  9, 78, 45,\n",
       "        72, 52, 57, 21, 72, 43, 30,  2, 52, 57, 72, 52,  2, 52, 82, 57, 72,\n",
       "        78, 44, 60, 42, 72, 54, 55, 30, 72, 43, 30,  2, 82, 57, 57, 82]], dtype=int32)"
      ]
     },
     "execution_count": 14,
     "metadata": {},
     "output_type": "execute_result"
    }
   ],
   "source": [
    "train_x[:,:50]"
   ]
  },
  {
   "cell_type": "markdown",
   "metadata": {},
   "source": [
    "I'll write another function to grab batches out of the arrays made by `split_data`. Here each batch will be a sliding window on these arrays with size `batch_size X num_steps`. For example, if we want our network to train on a sequence of 100 characters, `num_steps = 100`. For the next batch, we'll shift this window the next sequence of `num_steps` characters. In this way we can feed batches to the network and the cell states will continue through on each batch."
   ]
  },
  {
   "cell_type": "code",
   "execution_count": 15,
   "metadata": {
    "collapsed": true
   },
   "outputs": [],
   "source": [
    "def get_batch(arrs, num_steps):\n",
    "    batch_size, slice_size = arrs[0].shape\n",
    "    \n",
    "    n_batches = int(slice_size/num_steps)\n",
    "    for b in range(n_batches):\n",
    "        yield [x[:, b*num_steps: (b+1)*num_steps] for x in arrs]"
   ]
  },
  {
   "cell_type": "markdown",
   "metadata": {},
   "source": [
    "## Building the model\n",
    "\n",
    "Below is a function where I build the graph for the network."
   ]
  },
  {
   "cell_type": "code",
   "execution_count": 16,
   "metadata": {
    "collapsed": false,
    "deletable": true,
    "editable": true
   },
   "outputs": [],
   "source": [
    "from IPython.core.debugger import Tracer\n",
    "def build_rnn(num_classes, batch_size=50, num_steps=50, lstm_size=128, num_layers=2,\n",
    "              learning_rate=0.001, grad_clip=5, sampling=False):\n",
    "    \n",
    "    # When we're using this network for sampling later, we'll be passing in\n",
    "    # one character at a time, so providing an option for that\n",
    "    if sampling == True:\n",
    "        batch_size, num_steps = 1, 1\n",
    "\n",
    "    tf.reset_default_graph()\n",
    "    \n",
    "    # Declare placeholders we'll feed into the graph\n",
    "    inputs = tf.placeholder(tf.int32, [batch_size, num_steps], name='inputs')\n",
    "    print(\"inputs: \",inputs.get_shape().as_list())\n",
    "    targets = tf.placeholder(tf.int32, [batch_size, num_steps], name='targets')\n",
    "    print(\"target: \",targets.get_shape().as_list())\n",
    "        \n",
    "    # Keep probability placeholder for drop out layers\n",
    "    keep_prob = tf.placeholder(tf.float32, name='keep_prob')\n",
    "    \n",
    "    # One-hot encoding the input and target characters\n",
    "    x_one_hot = tf.one_hot(inputs, num_classes)\n",
    "    y_one_hot = tf.one_hot(targets, num_classes)\n",
    "\n",
    "    ### Build the RNN layers\n",
    "    # Use a basic LSTM cell\n",
    "    lstm = tf.contrib.rnn.BasicLSTMCell(lstm_size)\n",
    "    \n",
    "    # Add dropout to the cell\n",
    "    drop = tf.contrib.rnn.DropoutWrapper(lstm, output_keep_prob=keep_prob)\n",
    "    \n",
    "    # Stack up multiple LSTM layers, for deep learning\n",
    "    print(\"num_layers: \",num_layers)\n",
    "    \n",
    "    print(\"[drop] * num_layers: \",[drop] * num_layers)\n",
    "    cell = tf.contrib.rnn.MultiRNNCell([drop] * num_layers)\n",
    "    \n",
    "    initial_state = cell.zero_state(batch_size, tf.float32)\n",
    "\n",
    "    ### Run the data through the RNN layers\n",
    "    # This makes a list where each element is on step in the sequence\n",
    "    rnn_inputs = [tf.squeeze(i, squeeze_dims=[1]) for i in tf.split(x_one_hot, num_steps, 1)]\n",
    "    \n",
    "    # Run each sequence step through the RNN and collect the outputs\n",
    "    outputs, state = tf.contrib.rnn.static_rnn(cell, rnn_inputs, initial_state=initial_state)\n",
    "    final_state = state\n",
    "    \n",
    "    # Reshape output so it's a bunch of rows, one output row for each step for each batch\n",
    "    seq_output = tf.concat(outputs, axis=1)\n",
    "    output = tf.reshape(seq_output, [-1, lstm_size])\n",
    "    \n",
    "    # Now connect the RNN putputs to a softmax layer\n",
    "    with tf.variable_scope('softmax'):\n",
    "        softmax_w = tf.Variable(tf.truncated_normal((lstm_size, num_classes), stddev=0.1))\n",
    "        softmax_b = tf.Variable(tf.zeros(num_classes))\n",
    "    \n",
    "    # Since output is a bunch of rows of RNN cell outputs, logits will be a bunch\n",
    "    # of rows of logit outputs, one for each step and batch\n",
    "    logits = tf.matmul(output, softmax_w) + softmax_b\n",
    "    \n",
    "    # Use softmax to get the probabilities for predicted characters\n",
    "    preds = tf.nn.softmax(logits, name='predictions')\n",
    "    \n",
    "    # Reshape the targets to match the logits\n",
    "    y_reshaped = tf.reshape(y_one_hot, [-1, num_classes])\n",
    "    loss = tf.nn.softmax_cross_entropy_with_logits(logits=logits, labels=y_reshaped)\n",
    "    cost = tf.reduce_mean(loss)\n",
    "\n",
    "    # Optimizer for training, using gradient clipping to control exploding gradients\n",
    "    tvars = tf.trainable_variables()\n",
    "    grads, _ = tf.clip_by_global_norm(tf.gradients(cost, tvars), grad_clip)\n",
    "    train_op = tf.train.AdamOptimizer(learning_rate)\n",
    "    optimizer = train_op.apply_gradients(zip(grads, tvars))\n",
    "    \n",
    "    # Export the nodes\n",
    "    # NOTE: I'm using a namedtuple here because I think they are cool\n",
    "    export_nodes = ['inputs', 'targets', 'initial_state', 'final_state',\n",
    "                    'keep_prob', 'cost', 'preds', 'optimizer']\n",
    "    Graph = namedtuple('Graph', export_nodes)\n",
    "    local_dict = locals()\n",
    "    graph = Graph(*[local_dict[each] for each in export_nodes])\n",
    "\n",
    "    return graph"
   ]
  },
  {
   "cell_type": "markdown",
   "metadata": {},
   "source": [
    "## Hyperparameters\n",
    "\n",
    "Here I'm defining the hyperparameters for the network. \n",
    "\n",
    "* `batch_size` - Number of sequences running through the network in one pass.\n",
    "* `num_steps` - Number of characters in the sequence the network is trained on. Larger is better typically, the network will learn more long range dependencies. But it takes longer to train. 100 is typically a good number here.\n",
    "* `lstm_size` - The number of units in the hidden layers.\n",
    "* `num_layers` - Number of hidden LSTM layers to use\n",
    "* `learning_rate` - Learning rate for training\n",
    "* `keep_prob` - The dropout keep probability when training. If you're network is overfitting, try decreasing this.\n",
    "\n",
    "Here's some good advice from Andrej Karpathy on training the network. I'm going to write it in here for your benefit, but also link to [where it originally came from](https://github.com/karpathy/char-rnn#tips-and-tricks).\n",
    "\n",
    "> ## Tips and Tricks\n",
    "\n",
    ">### Monitoring Validation Loss vs. Training Loss\n",
    ">If you're somewhat new to Machine Learning or Neural Networks it can take a bit of expertise to get good models. The most important quantity to keep track of is the difference between your training loss (printed during training) and the validation loss (printed once in a while when the RNN is run on the validation data (by default every 1000 iterations)). In particular:\n",
    "\n",
    "> - If your training loss is much lower than validation loss then this means the network might be **overfitting**. Solutions to this are to decrease your network size, or to increase dropout. For example you could try dropout of 0.5 and so on.\n",
    "> - If your training/validation loss are about equal then your model is **underfitting**. Increase the size of your model (either number of layers or the raw number of neurons per layer)\n",
    "\n",
    "> ### Approximate number of parameters\n",
    "\n",
    "> The two most important parameters that control the model are `lstm_size` and `num_layers`. I would advise that you always use `num_layers` of either 2/3. The `lstm_size` can be adjusted based on how much data you have. The two important quantities to keep track of here are:\n",
    "\n",
    "> - The number of parameters in your model. This is printed when you start training.\n",
    "> - The size of your dataset. 1MB file is approximately 1 million characters.\n",
    "\n",
    ">These two should be about the same order of magnitude. It's a little tricky to tell. Here are some examples:\n",
    "\n",
    "> - I have a 100MB dataset and I'm using the default parameter settings (which currently print 150K parameters). My data size is significantly larger (100 mil >> 0.15 mil), so I expect to heavily underfit. I am thinking I can comfortably afford to make `lstm_size` larger.\n",
    "> - I have a 10MB dataset and running a 10 million parameter model. I'm slightly nervous and I'm carefully monitoring my validation loss. If it's larger than my training loss then I may want to try to increase dropout a bit and see if that heps the validation loss.\n",
    "\n",
    "> ### Best models strategy\n",
    "\n",
    ">The winning strategy to obtaining very good models (if you have the compute time) is to always err on making the network larger (as large as you're willing to wait for it to compute) and then try different dropout values (between 0,1). Whatever model has the best validation performance (the loss, written in the checkpoint filename, low is good) is the one you should use in the end.\n",
    "\n",
    ">It is very common in deep learning to run many different models with many different hyperparameter settings, and in the end take whatever checkpoint gave the best validation performance.\n",
    "\n",
    ">By the way, the size of your training and validation splits are also parameters. Make sure you have a decent amount of data in your validation set or otherwise the validation performance will be noisy and not very informative.\n"
   ]
  },
  {
   "cell_type": "code",
   "execution_count": 19,
   "metadata": {
    "collapsed": false,
    "deletable": true,
    "editable": true
   },
   "outputs": [],
   "source": [
    "batch_size = 100\n",
    "num_steps = 100 \n",
    "lstm_size = 512\n",
    "num_layers = 2\n",
    "learning_rate = 0.001\n",
    "keep_prob = 0.5"
   ]
  },
  {
   "cell_type": "markdown",
   "metadata": {},
   "source": [
    "## Training\n",
    "\n",
    "Time for training which is pretty straightforward. Here I pass in some data, and get an LSTM state back. Then I pass that state back in to the network so the next batch can continue the state from the previous batch. And every so often (set by `save_every_n`) I calculate the validation loss and save a checkpoint.\n",
    "\n",
    "Here I'm saving checkpoints with the format\n",
    "\n",
    "`i{iteration number}_l{# hidden layer units}_v{validation loss}.ckpt`"
   ]
  },
  {
   "cell_type": "code",
   "execution_count": 20,
   "metadata": {
    "collapsed": false,
    "deletable": true,
    "editable": true,
    "scrolled": true
   },
   "outputs": [
    {
     "name": "stdout",
     "output_type": "stream",
     "text": [
      "size (chars) 1985223\n",
      "batch_size:  100  num_steps:  100  split_frac:  0.9\n",
      "slice_size:  10000\n",
      "num_batches:  198\n",
      "x:  [34 55 52 ..., 57 43 30] len:  1980000\n",
      "y:  [55 52 11 ..., 43 30 44] len:  1980000\n",
      "x: \n",
      " [[34 55 52 ..., 33 45 72]\n",
      " [52 57 21 ..., 21 79 30]\n",
      " [50 82 54 ..., 27  9 21]\n",
      " ..., \n",
      " [43 30 30 ..., 82 33 48]\n",
      " [52  9 66 ..., 54 52 57]\n",
      " [21 72 55 ..., 57 43 30]]  shape:  (100, 19800)\n",
      "y: \n",
      " [[55 52 11 ..., 45 72 52]\n",
      " [57 21 72 ..., 79 30 50]\n",
      " [82 54 62 ...,  9 21 72]\n",
      " ..., \n",
      " [30 30 57 ..., 33 48 52]\n",
      " [ 9 66 52 ..., 52 57 21]\n",
      " [72 55 60 ..., 43 30 44]]  shape:  (100, 19800)\n",
      "split_size:  178\n",
      "reduced_x_y for training:  17800\n",
      "train_x: \n",
      " [[34 55 52 ..., 44 51 52]\n",
      " [52 57 21 ..., 54 55 30]\n",
      " [50 82 54 ..., 72 11 55]\n",
      " ..., \n",
      " [43 30 30 ..., 57 21 72]\n",
      " [52  9 66 ..., 55 30 72]\n",
      " [21 72 55 ..., 48 79 60]]  shape:  (100, 17800)\n",
      "train_y: \n",
      " [[55 52 11 ..., 51 52 21]\n",
      " [57 21 72 ..., 55 30 72]\n",
      " [82 54 62 ..., 11 55 79]\n",
      " ..., \n",
      " [30 30 57 ..., 21 72 54]\n",
      " [ 9 66 52 ..., 30 72 55]\n",
      " [72 55 60 ..., 79 60 27]]  shape:  (100, 17800)\n",
      "val_x: \n",
      " [[34 55 52 ..., 44 51 52]\n",
      " [52 57 21 ..., 54 55 30]\n",
      " [50 82 54 ..., 72 11 55]\n",
      " ..., \n",
      " [43 30 30 ..., 57 21 72]\n",
      " [52  9 66 ..., 55 30 72]\n",
      " [21 72 55 ..., 48 79 60]]  shape:  (100, 2000)\n",
      "val_y: \n",
      " [[55 52 11 ..., 51 52 21]\n",
      " [57 21 72 ..., 55 30 72]\n",
      " [82 54 62 ..., 11 55 79]\n",
      " ..., \n",
      " [30 30 57 ..., 21 72 54]\n",
      " [ 9 66 52 ..., 30 72 55]\n",
      " [72 55 60 ..., 79 60 27]]  shape:  (100, 2000)\n",
      "inputs:  [100, 100]\n",
      "target:  [100, 100]\n",
      "num_layers:  2\n",
      "[drop] * num_layers:  [<tensorflow.contrib.rnn.python.ops.core_rnn_cell_impl.DropoutWrapper object at 0x113883198>, <tensorflow.contrib.rnn.python.ops.core_rnn_cell_impl.DropoutWrapper object at 0x113883198>]\n",
      "Epoch 1/20  Iteration 1/3560 Training loss: 4.4159 4.0071 sec/batch\n",
      "Epoch 1/20  Iteration 2/3560 Training loss: 4.3711 3.0581 sec/batch\n",
      "Epoch 1/20  Iteration 3/3560 Training loss: 4.1855 3.0903 sec/batch\n",
      "Epoch 1/20  Iteration 4/3560 Training loss: 4.2507 3.1442 sec/batch\n",
      "Epoch 1/20  Iteration 5/3560 Training loss: 4.2377 3.1923 sec/batch\n",
      "Epoch 1/20  Iteration 6/3560 Training loss: 4.1827 3.2658 sec/batch\n",
      "Epoch 1/20  Iteration 7/3560 Training loss: 4.1201 3.3601 sec/batch\n",
      "Epoch 1/20  Iteration 8/3560 Training loss: 4.0541 3.3862 sec/batch\n",
      "Epoch 1/20  Iteration 9/3560 Training loss: 3.9891 3.3996 sec/batch\n",
      "Epoch 1/20  Iteration 10/3560 Training loss: 3.9311 3.4182 sec/batch\n",
      "Epoch 1/20  Iteration 11/3560 Training loss: 3.8817 3.3591 sec/batch\n",
      "Epoch 1/20  Iteration 12/3560 Training loss: 3.8386 3.5184 sec/batch\n",
      "Epoch 1/20  Iteration 13/3560 Training loss: 3.8010 3.5090 sec/batch\n",
      "Epoch 1/20  Iteration 14/3560 Training loss: 3.7696 3.6018 sec/batch\n",
      "Epoch 1/20  Iteration 15/3560 Training loss: 3.7398 3.4242 sec/batch\n",
      "Epoch 1/20  Iteration 16/3560 Training loss: 3.7126 3.3752 sec/batch\n",
      "Epoch 1/20  Iteration 17/3560 Training loss: 3.6880 3.5519 sec/batch\n",
      "Epoch 1/20  Iteration 18/3560 Training loss: 3.6671 3.3448 sec/batch\n",
      "Epoch 1/20  Iteration 19/3560 Training loss: 3.6474 3.3240 sec/batch\n",
      "Epoch 1/20  Iteration 20/3560 Training loss: 3.6274 3.3806 sec/batch\n",
      "Epoch 1/20  Iteration 21/3560 Training loss: 3.6102 3.4552 sec/batch\n",
      "Epoch 1/20  Iteration 22/3560 Training loss: 3.5940 3.4395 sec/batch\n",
      "Epoch 1/20  Iteration 23/3560 Training loss: 3.5788 3.4390 sec/batch\n",
      "Epoch 1/20  Iteration 24/3560 Training loss: 3.5650 3.5353 sec/batch\n",
      "Epoch 1/20  Iteration 25/3560 Training loss: 3.5513 3.4853 sec/batch\n",
      "Epoch 1/20  Iteration 26/3560 Training loss: 3.5397 3.4642 sec/batch\n",
      "Epoch 1/20  Iteration 27/3560 Training loss: 3.5286 3.3177 sec/batch\n",
      "Epoch 1/20  Iteration 28/3560 Training loss: 3.5174 3.3772 sec/batch\n",
      "Epoch 1/20  Iteration 29/3560 Training loss: 3.5071 3.4494 sec/batch\n",
      "Epoch 1/20  Iteration 30/3560 Training loss: 3.4973 3.2788 sec/batch\n",
      "Epoch 1/20  Iteration 31/3560 Training loss: 3.4891 3.2191 sec/batch\n",
      "Epoch 1/20  Iteration 32/3560 Training loss: 3.4800 3.2325 sec/batch\n",
      "Epoch 1/20  Iteration 33/3560 Training loss: 3.4715 3.2336 sec/batch\n",
      "Epoch 1/20  Iteration 34/3560 Training loss: 3.4640 3.2501 sec/batch\n",
      "Epoch 1/20  Iteration 35/3560 Training loss: 3.4563 3.1902 sec/batch\n",
      "Epoch 1/20  Iteration 36/3560 Training loss: 3.4492 3.2817 sec/batch\n",
      "Epoch 1/20  Iteration 37/3560 Training loss: 3.4417 3.2302 sec/batch\n",
      "Epoch 1/20  Iteration 38/3560 Training loss: 3.4348 3.2484 sec/batch\n",
      "Epoch 1/20  Iteration 39/3560 Training loss: 3.4281 3.4112 sec/batch\n",
      "Epoch 1/20  Iteration 40/3560 Training loss: 3.4218 3.5708 sec/batch\n",
      "Epoch 1/20  Iteration 41/3560 Training loss: 3.4155 3.5330 sec/batch\n",
      "Epoch 1/20  Iteration 42/3560 Training loss: 3.4097 3.2581 sec/batch\n",
      "Epoch 1/20  Iteration 43/3560 Training loss: 3.4040 3.3405 sec/batch\n",
      "Epoch 1/20  Iteration 44/3560 Training loss: 3.3986 3.5721 sec/batch\n",
      "Epoch 1/20  Iteration 45/3560 Training loss: 3.3931 3.8177 sec/batch\n",
      "Epoch 1/20  Iteration 46/3560 Training loss: 3.3882 4.2872 sec/batch\n",
      "Epoch 1/20  Iteration 47/3560 Training loss: 3.3836 4.1451 sec/batch\n",
      "Epoch 1/20  Iteration 48/3560 Training loss: 3.3793 3.5280 sec/batch\n",
      "Epoch 1/20  Iteration 49/3560 Training loss: 3.3751 3.2049 sec/batch\n",
      "Epoch 1/20  Iteration 50/3560 Training loss: 3.3710 3.3290 sec/batch\n",
      "Epoch 1/20  Iteration 51/3560 Training loss: 3.3668 3.2677 sec/batch\n",
      "Epoch 1/20  Iteration 52/3560 Training loss: 3.3626 3.5649 sec/batch\n",
      "Epoch 1/20  Iteration 53/3560 Training loss: 3.3588 3.3916 sec/batch\n",
      "Epoch 1/20  Iteration 54/3560 Training loss: 3.3547 3.3398 sec/batch\n",
      "Epoch 1/20  Iteration 55/3560 Training loss: 3.3510 3.3526 sec/batch\n",
      "Epoch 1/20  Iteration 56/3560 Training loss: 3.3472 3.3386 sec/batch\n",
      "Epoch 1/20  Iteration 57/3560 Training loss: 3.3436 3.7197 sec/batch\n",
      "Epoch 1/20  Iteration 58/3560 Training loss: 3.3402 3.6117 sec/batch\n",
      "Epoch 1/20  Iteration 59/3560 Training loss: 3.3367 3.4635 sec/batch\n",
      "Epoch 1/20  Iteration 60/3560 Training loss: 3.3335 3.2457 sec/batch\n",
      "Epoch 1/20  Iteration 61/3560 Training loss: 3.3304 3.2152 sec/batch\n",
      "Epoch 1/20  Iteration 62/3560 Training loss: 3.3276 3.2720 sec/batch\n",
      "Epoch 1/20  Iteration 63/3560 Training loss: 3.3249 3.3467 sec/batch\n",
      "Epoch 1/20  Iteration 64/3560 Training loss: 3.3217 3.4335 sec/batch\n",
      "Epoch 1/20  Iteration 65/3560 Training loss: 3.3188 3.3289 sec/batch\n",
      "Epoch 1/20  Iteration 66/3560 Training loss: 3.3163 3.4623 sec/batch\n",
      "Epoch 1/20  Iteration 67/3560 Training loss: 3.3137 4.0779 sec/batch\n",
      "Epoch 1/20  Iteration 68/3560 Training loss: 3.3106 4.0744 sec/batch\n",
      "Epoch 1/20  Iteration 69/3560 Training loss: 3.3078 3.6393 sec/batch\n",
      "Epoch 1/20  Iteration 70/3560 Training loss: 3.3054 3.6109 sec/batch\n",
      "Epoch 1/20  Iteration 71/3560 Training loss: 3.3029 3.6259 sec/batch\n",
      "Epoch 1/20  Iteration 72/3560 Training loss: 3.3007 3.4255 sec/batch\n",
      "Epoch 1/20  Iteration 73/3560 Training loss: 3.2983 3.3212 sec/batch\n",
      "Epoch 1/20  Iteration 74/3560 Training loss: 3.2960 3.3064 sec/batch\n",
      "Epoch 1/20  Iteration 75/3560 Training loss: 3.2938 3.4304 sec/batch\n",
      "Epoch 1/20  Iteration 76/3560 Training loss: 3.2918 3.4671 sec/batch\n",
      "Epoch 1/20  Iteration 77/3560 Training loss: 3.2897 3.3239 sec/batch\n",
      "Epoch 1/20  Iteration 78/3560 Training loss: 3.2876 3.3530 sec/batch\n",
      "Epoch 1/20  Iteration 79/3560 Training loss: 3.2855 3.5470 sec/batch\n",
      "Epoch 1/20  Iteration 80/3560 Training loss: 3.2832 3.2637 sec/batch\n",
      "Epoch 1/20  Iteration 81/3560 Training loss: 3.2811 3.4927 sec/batch\n",
      "Epoch 1/20  Iteration 82/3560 Training loss: 3.2791 3.4144 sec/batch\n",
      "Epoch 1/20  Iteration 83/3560 Training loss: 3.2772 3.3171 sec/batch\n",
      "Epoch 1/20  Iteration 84/3560 Training loss: 3.2752 3.4131 sec/batch\n",
      "Epoch 1/20  Iteration 85/3560 Training loss: 3.2730 3.5057 sec/batch\n",
      "Epoch 1/20  Iteration 86/3560 Training loss: 3.2710 3.4785 sec/batch\n",
      "Epoch 1/20  Iteration 87/3560 Training loss: 3.2689 3.8501 sec/batch\n",
      "Epoch 1/20  Iteration 88/3560 Training loss: 3.2670 3.4433 sec/batch\n",
      "Epoch 1/20  Iteration 89/3560 Training loss: 3.2651 3.4495 sec/batch\n",
      "Epoch 1/20  Iteration 90/3560 Training loss: 3.2633 3.5569 sec/batch\n",
      "Epoch 1/20  Iteration 91/3560 Training loss: 3.2615 3.5191 sec/batch\n",
      "Epoch 1/20  Iteration 92/3560 Training loss: 3.2596 3.4996 sec/batch\n",
      "Epoch 1/20  Iteration 93/3560 Training loss: 3.2578 3.4131 sec/batch\n",
      "Epoch 1/20  Iteration 94/3560 Training loss: 3.2559 3.3530 sec/batch\n",
      "Epoch 1/20  Iteration 95/3560 Training loss: 3.2540 3.3904 sec/batch\n"
     ]
    },
    {
     "ename": "KeyboardInterrupt",
     "evalue": "",
     "output_type": "error",
     "traceback": [
      "\u001b[0;31m---------------------------------------------------------------------------\u001b[0m",
      "\u001b[0;31mKeyboardInterrupt\u001b[0m                         Traceback (most recent call last)",
      "\u001b[0;32m<ipython-input-20-780c3a10820d>\u001b[0m in \u001b[0;36m<module>\u001b[0;34m()\u001b[0m\n\u001b[1;32m     33\u001b[0m                     model.initial_state: new_state}\n\u001b[1;32m     34\u001b[0m             batch_loss, new_state, _ = sess.run([model.cost, model.final_state, model.optimizer], \n\u001b[0;32m---> 35\u001b[0;31m                                                  feed_dict=feed)\n\u001b[0m\u001b[1;32m     36\u001b[0m             \u001b[0mloss\u001b[0m \u001b[0;34m+=\u001b[0m \u001b[0mbatch_loss\u001b[0m\u001b[0;34m\u001b[0m\u001b[0m\n\u001b[1;32m     37\u001b[0m             \u001b[0mend\u001b[0m \u001b[0;34m=\u001b[0m \u001b[0mtime\u001b[0m\u001b[0;34m.\u001b[0m\u001b[0mtime\u001b[0m\u001b[0;34m(\u001b[0m\u001b[0;34m)\u001b[0m\u001b[0;34m\u001b[0m\u001b[0m\n",
      "\u001b[0;32m/Users/apil.tamang/anaconda3/envs/tensorflow/lib/python3.5/site-packages/tensorflow/python/client/session.py\u001b[0m in \u001b[0;36mrun\u001b[0;34m(self, fetches, feed_dict, options, run_metadata)\u001b[0m\n\u001b[1;32m    765\u001b[0m     \u001b[0;32mtry\u001b[0m\u001b[0;34m:\u001b[0m\u001b[0;34m\u001b[0m\u001b[0m\n\u001b[1;32m    766\u001b[0m       result = self._run(None, fetches, feed_dict, options_ptr,\n\u001b[0;32m--> 767\u001b[0;31m                          run_metadata_ptr)\n\u001b[0m\u001b[1;32m    768\u001b[0m       \u001b[0;32mif\u001b[0m \u001b[0mrun_metadata\u001b[0m\u001b[0;34m:\u001b[0m\u001b[0;34m\u001b[0m\u001b[0m\n\u001b[1;32m    769\u001b[0m         \u001b[0mproto_data\u001b[0m \u001b[0;34m=\u001b[0m \u001b[0mtf_session\u001b[0m\u001b[0;34m.\u001b[0m\u001b[0mTF_GetBuffer\u001b[0m\u001b[0;34m(\u001b[0m\u001b[0mrun_metadata_ptr\u001b[0m\u001b[0;34m)\u001b[0m\u001b[0;34m\u001b[0m\u001b[0m\n",
      "\u001b[0;32m/Users/apil.tamang/anaconda3/envs/tensorflow/lib/python3.5/site-packages/tensorflow/python/client/session.py\u001b[0m in \u001b[0;36m_run\u001b[0;34m(self, handle, fetches, feed_dict, options, run_metadata)\u001b[0m\n\u001b[1;32m    963\u001b[0m     \u001b[0;32mif\u001b[0m \u001b[0mfinal_fetches\u001b[0m \u001b[0;32mor\u001b[0m \u001b[0mfinal_targets\u001b[0m\u001b[0;34m:\u001b[0m\u001b[0;34m\u001b[0m\u001b[0m\n\u001b[1;32m    964\u001b[0m       results = self._do_run(handle, final_targets, final_fetches,\n\u001b[0;32m--> 965\u001b[0;31m                              feed_dict_string, options, run_metadata)\n\u001b[0m\u001b[1;32m    966\u001b[0m     \u001b[0;32melse\u001b[0m\u001b[0;34m:\u001b[0m\u001b[0;34m\u001b[0m\u001b[0m\n\u001b[1;32m    967\u001b[0m       \u001b[0mresults\u001b[0m \u001b[0;34m=\u001b[0m \u001b[0;34m[\u001b[0m\u001b[0;34m]\u001b[0m\u001b[0;34m\u001b[0m\u001b[0m\n",
      "\u001b[0;32m/Users/apil.tamang/anaconda3/envs/tensorflow/lib/python3.5/site-packages/tensorflow/python/client/session.py\u001b[0m in \u001b[0;36m_do_run\u001b[0;34m(self, handle, target_list, fetch_list, feed_dict, options, run_metadata)\u001b[0m\n\u001b[1;32m   1013\u001b[0m     \u001b[0;32mif\u001b[0m \u001b[0mhandle\u001b[0m \u001b[0;32mis\u001b[0m \u001b[0;32mNone\u001b[0m\u001b[0;34m:\u001b[0m\u001b[0;34m\u001b[0m\u001b[0m\n\u001b[1;32m   1014\u001b[0m       return self._do_call(_run_fn, self._session, feed_dict, fetch_list,\n\u001b[0;32m-> 1015\u001b[0;31m                            target_list, options, run_metadata)\n\u001b[0m\u001b[1;32m   1016\u001b[0m     \u001b[0;32melse\u001b[0m\u001b[0;34m:\u001b[0m\u001b[0;34m\u001b[0m\u001b[0m\n\u001b[1;32m   1017\u001b[0m       return self._do_call(_prun_fn, self._session, handle, feed_dict,\n",
      "\u001b[0;32m/Users/apil.tamang/anaconda3/envs/tensorflow/lib/python3.5/site-packages/tensorflow/python/client/session.py\u001b[0m in \u001b[0;36m_do_call\u001b[0;34m(self, fn, *args)\u001b[0m\n\u001b[1;32m   1020\u001b[0m   \u001b[0;32mdef\u001b[0m \u001b[0m_do_call\u001b[0m\u001b[0;34m(\u001b[0m\u001b[0mself\u001b[0m\u001b[0;34m,\u001b[0m \u001b[0mfn\u001b[0m\u001b[0;34m,\u001b[0m \u001b[0;34m*\u001b[0m\u001b[0margs\u001b[0m\u001b[0;34m)\u001b[0m\u001b[0;34m:\u001b[0m\u001b[0;34m\u001b[0m\u001b[0m\n\u001b[1;32m   1021\u001b[0m     \u001b[0;32mtry\u001b[0m\u001b[0;34m:\u001b[0m\u001b[0;34m\u001b[0m\u001b[0m\n\u001b[0;32m-> 1022\u001b[0;31m       \u001b[0;32mreturn\u001b[0m \u001b[0mfn\u001b[0m\u001b[0;34m(\u001b[0m\u001b[0;34m*\u001b[0m\u001b[0margs\u001b[0m\u001b[0;34m)\u001b[0m\u001b[0;34m\u001b[0m\u001b[0m\n\u001b[0m\u001b[1;32m   1023\u001b[0m     \u001b[0;32mexcept\u001b[0m \u001b[0merrors\u001b[0m\u001b[0;34m.\u001b[0m\u001b[0mOpError\u001b[0m \u001b[0;32mas\u001b[0m \u001b[0me\u001b[0m\u001b[0;34m:\u001b[0m\u001b[0;34m\u001b[0m\u001b[0m\n\u001b[1;32m   1024\u001b[0m       \u001b[0mmessage\u001b[0m \u001b[0;34m=\u001b[0m \u001b[0mcompat\u001b[0m\u001b[0;34m.\u001b[0m\u001b[0mas_text\u001b[0m\u001b[0;34m(\u001b[0m\u001b[0me\u001b[0m\u001b[0;34m.\u001b[0m\u001b[0mmessage\u001b[0m\u001b[0;34m)\u001b[0m\u001b[0;34m\u001b[0m\u001b[0m\n",
      "\u001b[0;32m/Users/apil.tamang/anaconda3/envs/tensorflow/lib/python3.5/site-packages/tensorflow/python/client/session.py\u001b[0m in \u001b[0;36m_run_fn\u001b[0;34m(session, feed_dict, fetch_list, target_list, options, run_metadata)\u001b[0m\n\u001b[1;32m   1002\u001b[0m         return tf_session.TF_Run(session, options,\n\u001b[1;32m   1003\u001b[0m                                  \u001b[0mfeed_dict\u001b[0m\u001b[0;34m,\u001b[0m \u001b[0mfetch_list\u001b[0m\u001b[0;34m,\u001b[0m \u001b[0mtarget_list\u001b[0m\u001b[0;34m,\u001b[0m\u001b[0;34m\u001b[0m\u001b[0m\n\u001b[0;32m-> 1004\u001b[0;31m                                  status, run_metadata)\n\u001b[0m\u001b[1;32m   1005\u001b[0m \u001b[0;34m\u001b[0m\u001b[0m\n\u001b[1;32m   1006\u001b[0m     \u001b[0;32mdef\u001b[0m \u001b[0m_prun_fn\u001b[0m\u001b[0;34m(\u001b[0m\u001b[0msession\u001b[0m\u001b[0;34m,\u001b[0m \u001b[0mhandle\u001b[0m\u001b[0;34m,\u001b[0m \u001b[0mfeed_dict\u001b[0m\u001b[0;34m,\u001b[0m \u001b[0mfetch_list\u001b[0m\u001b[0;34m)\u001b[0m\u001b[0;34m:\u001b[0m\u001b[0;34m\u001b[0m\u001b[0m\n",
      "\u001b[0;31mKeyboardInterrupt\u001b[0m: "
     ]
    }
   ],
   "source": [
    "epochs = 20\n",
    "# Save every N iterations\n",
    "save_every_n = 200\n",
    "train_x, train_y, val_x, val_y = split_data(chars, batch_size, num_steps)\n",
    "\n",
    "model = build_rnn(len(vocab), \n",
    "                  batch_size=batch_size,\n",
    "                  num_steps=num_steps,\n",
    "                  learning_rate=learning_rate,\n",
    "                  lstm_size=lstm_size,\n",
    "                  num_layers=num_layers)\n",
    "\n",
    "saver = tf.train.Saver(max_to_keep=100)\n",
    "with tf.Session() as sess:\n",
    "    sess.run(tf.global_variables_initializer())\n",
    "    \n",
    "    # Use the line below to load a checkpoint and resume training\n",
    "    #saver.restore(sess, 'checkpoints/______.ckpt')\n",
    "    \n",
    "    n_batches = int(train_x.shape[1]/num_steps)\n",
    "    iterations = n_batches * epochs\n",
    "    for e in range(epochs):\n",
    "        \n",
    "        # Train network\n",
    "        new_state = sess.run(model.initial_state)\n",
    "        loss = 0\n",
    "        for b, (x, y) in enumerate(get_batch([train_x, train_y], num_steps), 1):\n",
    "            iteration = e*n_batches + b\n",
    "            start = time.time()\n",
    "            feed = {model.inputs: x,\n",
    "                    model.targets: y,\n",
    "                    model.keep_prob: keep_prob,\n",
    "                    model.initial_state: new_state}\n",
    "            batch_loss, new_state, _ = sess.run([model.cost, model.final_state, model.optimizer], \n",
    "                                                 feed_dict=feed)\n",
    "            loss += batch_loss\n",
    "            end = time.time()\n",
    "            print('Epoch {}/{} '.format(e+1, epochs),\n",
    "                  'Iteration {}/{}'.format(iteration, iterations),\n",
    "                  'Training loss: {:.4f}'.format(loss/b),\n",
    "                  '{:.4f} sec/batch'.format((end-start)))\n",
    "        \n",
    "            \n",
    "            if (iteration%save_every_n == 0) or (iteration == iterations):\n",
    "                # Check performance, notice dropout has been set to 1\n",
    "                val_loss = []\n",
    "                new_state = sess.run(model.initial_state)\n",
    "                for x, y in get_batch([val_x, val_y], num_steps):\n",
    "                    feed = {model.inputs: x,\n",
    "                            model.targets: y,\n",
    "                            model.keep_prob: 1.,\n",
    "                            model.initial_state: new_state}\n",
    "                    batch_loss, new_state = sess.run([model.cost, model.final_state], feed_dict=feed)\n",
    "                    val_loss.append(batch_loss)\n",
    "\n",
    "                print('Validation loss:', np.mean(val_loss),\n",
    "                      'Saving checkpoint!')\n",
    "                saver.save(sess, \"checkpoints/i{}_l{}_v{:.3f}.ckpt\".format(iteration, lstm_size, np.mean(val_loss)))"
   ]
  },
  {
   "cell_type": "markdown",
   "metadata": {},
   "source": [
    "#### Saved checkpoints\n",
    "\n",
    "Read up on saving and loading checkpoints here: https://www.tensorflow.org/programmers_guide/variables"
   ]
  },
  {
   "cell_type": "code",
   "execution_count": null,
   "metadata": {
    "collapsed": false,
    "deletable": true,
    "editable": true
   },
   "outputs": [],
   "source": [
    "tf.train.get_checkpoint_state('checkpoints')"
   ]
  },
  {
   "cell_type": "markdown",
   "metadata": {},
   "source": [
    "## Sampling\n",
    "\n",
    "Now that the network is trained, we'll can use it to generate new text. The idea is that we pass in a character, then the network will predict the next character. We can use the new one, to predict the next one. And we keep doing this to generate all new text. I also included some functionality to prime the network with some text by passing in a string and building up a state from that.\n",
    "\n",
    "The network gives us predictions for each character. To reduce noise and make things a little less random, I'm going to only choose a new character from the top N most likely characters.\n",
    "\n"
   ]
  },
  {
   "cell_type": "code",
   "execution_count": null,
   "metadata": {
    "collapsed": true
   },
   "outputs": [],
   "source": [
    "def pick_top_n(preds, vocab_size, top_n=5):\n",
    "    p = np.squeeze(preds)\n",
    "    p[np.argsort(p)[:-top_n]] = 0\n",
    "    p = p / np.sum(p)\n",
    "    c = np.random.choice(vocab_size, 1, p=p)[0]\n",
    "    return c"
   ]
  },
  {
   "cell_type": "code",
   "execution_count": null,
   "metadata": {
    "collapsed": true
   },
   "outputs": [],
   "source": [
    "def sample(checkpoint, n_samples, lstm_size, vocab_size, prime=\"The \"):\n",
    "    samples = [c for c in prime]\n",
    "    model = build_rnn(vocab_size, lstm_size=lstm_size, sampling=True)\n",
    "    saver = tf.train.Saver()\n",
    "    with tf.Session() as sess:\n",
    "        saver.restore(sess, checkpoint)\n",
    "        new_state = sess.run(model.initial_state)\n",
    "        for c in prime:\n",
    "            x = np.zeros((1, 1))\n",
    "            x[0,0] = vocab_to_int[c]\n",
    "            feed = {model.inputs: x,\n",
    "                    model.keep_prob: 1.,\n",
    "                    model.initial_state: new_state}\n",
    "            preds, new_state = sess.run([model.preds, model.final_state], \n",
    "                                         feed_dict=feed)\n",
    "\n",
    "        c = pick_top_n(preds, len(vocab))\n",
    "        samples.append(int_to_vocab[c])\n",
    "\n",
    "        for i in range(n_samples):\n",
    "            x[0,0] = c\n",
    "            feed = {model.inputs: x,\n",
    "                    model.keep_prob: 1.,\n",
    "                    model.initial_state: new_state}\n",
    "            preds, new_state = sess.run([model.preds, model.final_state], \n",
    "                                         feed_dict=feed)\n",
    "\n",
    "            c = pick_top_n(preds, len(vocab))\n",
    "            samples.append(int_to_vocab[c])\n",
    "        \n",
    "    return ''.join(samples)"
   ]
  },
  {
   "cell_type": "markdown",
   "metadata": {},
   "source": [
    "Here, pass in the path to a checkpoint and sample from the network."
   ]
  },
  {
   "cell_type": "code",
   "execution_count": null,
   "metadata": {
    "collapsed": false
   },
   "outputs": [],
   "source": [
    "checkpoint = \"checkpoints/____.ckpt\"\n",
    "samp = sample(checkpoint, 2000, lstm_size, len(vocab), prime=\"Far\")\n",
    "print(samp)"
   ]
  },
  {
   "cell_type": "code",
   "execution_count": null,
   "metadata": {
    "collapsed": true
   },
   "outputs": [],
   "source": []
  }
 ],
 "metadata": {
  "kernelspec": {
   "display_name": "Python 3",
   "language": "python",
   "name": "python3"
  },
  "language_info": {
   "codemirror_mode": {
    "name": "ipython",
    "version": 3
   },
   "file_extension": ".py",
   "mimetype": "text/x-python",
   "name": "python",
   "nbconvert_exporter": "python",
   "pygments_lexer": "ipython3",
   "version": "3.5.2"
  }
 },
 "nbformat": 4,
 "nbformat_minor": 2
}
