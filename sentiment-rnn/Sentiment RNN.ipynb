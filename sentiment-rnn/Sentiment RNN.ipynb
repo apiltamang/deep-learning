{
 "cells": [
  {
   "cell_type": "markdown",
   "metadata": {
    "deletable": true,
    "editable": true
   },
   "source": [
    "# Sentiment Analysis with an RNN\n",
    "\n",
    "In this notebook, you'll implement a recurrent neural network that performs sentiment analysis. Using an RNN rather than a feedfoward network is more accurate since we can include information about the *sequence* of words. Here we'll use a dataset of movie reviews, accompanied by labels.\n",
    "\n",
    "The architecture for this network is shown below.\n",
    "\n",
    "<img src=\"assets/network_diagram.png\" width=400px>\n",
    "\n",
    "Here, we'll pass in words to an embedding layer. We need an embedding layer because we have tens of thousands of words, so we'll need a more efficient representation for our input data than one-hot encoded vectors. You should have seen this before from the word2vec lesson. You can actually train up an embedding with word2vec and use it here. But it's good enough to just have an embedding layer and let the network learn the embedding table on it's own.\n",
    "\n",
    "From the embedding layer, the new representations will be passed to LSTM cells. These will add recurrent connections to the network so we can include information about the sequence of words in the data. Finally, the LSTM cells will go to a sigmoid output layer here. We're using the sigmoid because we're trying to predict if this text has positive or negative sentiment. The output layer will just be a single unit then, with a sigmoid activation function.\n",
    "\n",
    "We don't care about the sigmoid outputs except for the very last one, we can ignore the rest. We'll calculate the cost from the output of the last step and the training label."
   ]
  },
  {
   "cell_type": "code",
   "execution_count": 1,
   "metadata": {
    "collapsed": true,
    "deletable": true,
    "editable": true
   },
   "outputs": [],
   "source": [
    "import numpy as np\n",
    "import tensorflow as tf"
   ]
  },
  {
   "cell_type": "code",
   "execution_count": 27,
   "metadata": {
    "collapsed": false,
    "deletable": true,
    "editable": true
   },
   "outputs": [],
   "source": [
    "with open('reviews_small.txt', 'r') as f:\n",
    "    reviews = f.read()\n",
    "with open('labels_small.txt', 'r') as f:\n",
    "    labels = f.read()"
   ]
  },
  {
   "cell_type": "code",
   "execution_count": 30,
   "metadata": {
    "collapsed": false,
    "deletable": true,
    "editable": true
   },
   "outputs": [
    {
     "data": {
      "text/plain": [
       "'bromwell high is a cartoon comedy . it ran at the same time as some other programs about school life  \\nstory of a man who has unnatural feelings for a pig . starts out with a opening scene that\\nhomelessness  or houselessness as george carlin stated  has been an issue   \\nairport    starts as a brand new luxury    plane is loaded up with valuable paintings  \\nbrilliant over  acting by lesley ann warren . best dramatic   \\nthis film lacked something i couldn  t put my finger on at first charisma   \\nthis is easily the most underrated film inn the brooks cannon .   \\nsorry everyone    i know this is supposed to be an  art  film   but   \\nthis is not the typical mel brooks film . it was much less   \\nwhen i was little my parents took me along to the theater to see interiors .'"
      ]
     },
     "execution_count": 30,
     "metadata": {},
     "output_type": "execute_result"
    }
   ],
   "source": [
    "reviews"
   ]
  },
  {
   "cell_type": "markdown",
   "metadata": {
    "deletable": true,
    "editable": true
   },
   "source": [
    "## Data preprocessing\n",
    "\n",
    "The first step when building a neural network model is getting your data into the proper form to feed into the network. Since we're using embedding layers, we'll need to encode each word with an integer. We'll also want to clean it up a bit.\n",
    "\n",
    "You can see an example of the reviews data above. We'll want to get rid of those periods. Also, you might notice that the reviews are delimited with newlines `\\n`. To deal with those, I'm going to split the text into each review using `\\n` as the delimiter. Then I can combined all the reviews back together into one big string.\n",
    "\n",
    "First, let's remove all punctuation. Then get all the text without the newlines and split it into individual words."
   ]
  },
  {
   "cell_type": "code",
   "execution_count": 31,
   "metadata": {
    "collapsed": false,
    "deletable": true,
    "editable": true
   },
   "outputs": [],
   "source": [
    "from string import punctuation\n",
    "all_text = ''.join([c for c in reviews if c not in punctuation])\n",
    "reviews = all_text.split('\\n')\n",
    "\n",
    "all_text = ' '.join(reviews)\n",
    "words = all_text.split()"
   ]
  },
  {
   "cell_type": "code",
   "execution_count": 32,
   "metadata": {
    "collapsed": false,
    "deletable": true,
    "editable": true
   },
   "outputs": [
    {
     "name": "stdout",
     "output_type": "stream",
     "text": [
      "all text: <class 'str'>\n",
      "words:  <class 'list'>\n"
     ]
    }
   ],
   "source": [
    "print(\"all text:\",type(all_text))\n",
    "print(\"words: \",type(words))"
   ]
  },
  {
   "cell_type": "code",
   "execution_count": 34,
   "metadata": {
    "collapsed": false,
    "deletable": true,
    "editable": true
   },
   "outputs": [
    {
     "data": {
      "text/plain": [
       "['bromwell',\n",
       " 'high',\n",
       " 'is',\n",
       " 'a',\n",
       " 'cartoon',\n",
       " 'comedy',\n",
       " 'it',\n",
       " 'ran',\n",
       " 'at',\n",
       " 'the',\n",
       " 'same',\n",
       " 'time',\n",
       " 'as',\n",
       " 'some',\n",
       " 'other',\n",
       " 'programs',\n",
       " 'about',\n",
       " 'school',\n",
       " 'life',\n",
       " 'story',\n",
       " 'of',\n",
       " 'a',\n",
       " 'man',\n",
       " 'who',\n",
       " 'has',\n",
       " 'unnatural',\n",
       " 'feelings',\n",
       " 'for',\n",
       " 'a',\n",
       " 'pig',\n",
       " 'starts',\n",
       " 'out',\n",
       " 'with',\n",
       " 'a',\n",
       " 'opening',\n",
       " 'scene',\n",
       " 'that',\n",
       " 'homelessness',\n",
       " 'or',\n",
       " 'houselessness',\n",
       " 'as',\n",
       " 'george',\n",
       " 'carlin',\n",
       " 'stated',\n",
       " 'has',\n",
       " 'been',\n",
       " 'an',\n",
       " 'issue',\n",
       " 'airport',\n",
       " 'starts',\n",
       " 'as',\n",
       " 'a',\n",
       " 'brand',\n",
       " 'new',\n",
       " 'luxury',\n",
       " 'plane',\n",
       " 'is',\n",
       " 'loaded',\n",
       " 'up',\n",
       " 'with',\n",
       " 'valuable',\n",
       " 'paintings',\n",
       " 'brilliant',\n",
       " 'over',\n",
       " 'acting',\n",
       " 'by',\n",
       " 'lesley',\n",
       " 'ann',\n",
       " 'warren',\n",
       " 'best',\n",
       " 'dramatic',\n",
       " 'this',\n",
       " 'film',\n",
       " 'lacked',\n",
       " 'something',\n",
       " 'i',\n",
       " 'couldn',\n",
       " 't',\n",
       " 'put',\n",
       " 'my',\n",
       " 'finger',\n",
       " 'on',\n",
       " 'at',\n",
       " 'first',\n",
       " 'charisma',\n",
       " 'this',\n",
       " 'is',\n",
       " 'easily',\n",
       " 'the',\n",
       " 'most',\n",
       " 'underrated',\n",
       " 'film',\n",
       " 'inn',\n",
       " 'the',\n",
       " 'brooks',\n",
       " 'cannon',\n",
       " 'sorry',\n",
       " 'everyone',\n",
       " 'i',\n",
       " 'know',\n",
       " 'this',\n",
       " 'is',\n",
       " 'supposed',\n",
       " 'to',\n",
       " 'be',\n",
       " 'an',\n",
       " 'art',\n",
       " 'film',\n",
       " 'but',\n",
       " 'this',\n",
       " 'is',\n",
       " 'not',\n",
       " 'the',\n",
       " 'typical',\n",
       " 'mel',\n",
       " 'brooks',\n",
       " 'film',\n",
       " 'it',\n",
       " 'was',\n",
       " 'much',\n",
       " 'less',\n",
       " 'when',\n",
       " 'i',\n",
       " 'was',\n",
       " 'little',\n",
       " 'my',\n",
       " 'parents',\n",
       " 'took',\n",
       " 'me',\n",
       " 'along',\n",
       " 'to',\n",
       " 'the',\n",
       " 'theater',\n",
       " 'to',\n",
       " 'see',\n",
       " 'interiors']"
      ]
     },
     "execution_count": 34,
     "metadata": {},
     "output_type": "execute_result"
    }
   ],
   "source": [
    "words"
   ]
  },
  {
   "cell_type": "markdown",
   "metadata": {
    "deletable": true,
    "editable": true
   },
   "source": [
    "### Encoding the words\n",
    "\n",
    "The embedding lookup requires that we pass in integers to our network. The easiest way to do this is to create dictionaries that map the words in the vocabulary to integers. Then we can convert each of our reviews into integers so they can be passed into the network.\n",
    "\n",
    "> **Exercise:** Now you're going to encode the words with integers. Build a dictionary that maps words to integers. Later we're going to pad our input vectors with zeros, so make sure the integers **start at 1, not 0**.\n",
    "> Also, convert the reviews to integers and store the reviews in a new list called `reviews_ints`. "
   ]
  },
  {
   "cell_type": "code",
   "execution_count": 35,
   "metadata": {
    "collapsed": false,
    "deletable": true,
    "editable": true
   },
   "outputs": [],
   "source": [
    "from collections import *\n",
    "def create_lookup_tables(words):\n",
    "    \"\"\"\n",
    "    Create lookup tables for vocabulary\n",
    "    :param words: Input list of words\n",
    "    :return: A tuple of dicts.  The first dict....\n",
    "    \"\"\"\n",
    "    word_counts = Counter(words)\n",
    "    sorted_vocab = sorted(word_counts, key=word_counts.get, reverse=True)\n",
    "    int_to_vocab = {ii: word for ii, word in enumerate(sorted_vocab,1)}\n",
    "    vocab_to_int = {word: ii for ii, word in int_to_vocab.items()}\n",
    "\n",
    "    return vocab_to_int\n",
    "\n",
    "# Create your dictionary that maps vocab words to integers here\n",
    "vocab_to_int = create_lookup_tables(words)\n",
    "\n",
    "# Convert the reviews to integers, same shape as reviews list, but with integers\n",
    "reviews_ints = []\n",
    "for each in reviews:\n",
    "    reviews_ints.append([vocab_to_int[word] for word in each.split()])"
   ]
  },
  {
   "cell_type": "markdown",
   "metadata": {
    "collapsed": false,
    "deletable": true,
    "editable": true
   },
   "source": [
    "### Encoding the labels\n",
    "\n",
    "Our labels are \"positive\" or \"negative\". To use these labels in our network, we need to convert them to 0 and 1.\n",
    "\n",
    "> **Exercise:** Convert labels from `positive` and `negative` to 1 and 0, respectively."
   ]
  },
  {
   "cell_type": "code",
   "execution_count": 36,
   "metadata": {
    "collapsed": false,
    "deletable": true,
    "editable": true
   },
   "outputs": [
    {
     "data": {
      "text/plain": [
       "[1, 0, 1, 0, 1]"
      ]
     },
     "execution_count": 36,
     "metadata": {},
     "output_type": "execute_result"
    }
   ],
   "source": [
    "# Convert labels to 1s and 0s for 'positive' and 'negative'\n",
    "type(labels)\n",
    "labels_split = labels.split(\"\\n\")\n",
    "labels_int=[]\n",
    "for val in labels_split:\n",
    "    if val == 'positive':\n",
    "        labels_int.append(1)\n",
    "    else:\n",
    "        labels_int.append(0)\n",
    "\n",
    "labels_int[:5]"
   ]
  },
  {
   "cell_type": "markdown",
   "metadata": {},
   "source": [
    "If you built `labels` correctly, you should see the next output."
   ]
  },
  {
   "cell_type": "code",
   "execution_count": 37,
   "metadata": {
    "collapsed": false,
    "deletable": true,
    "editable": true
   },
   "outputs": [
    {
     "name": "stdout",
     "output_type": "stream",
     "text": [
      "Zero-length reviews: 0\n",
      "Maximum review length: 19\n"
     ]
    }
   ],
   "source": [
    "review_lens = Counter([len(x) for x in reviews_ints])\n",
    "print(\"Zero-length reviews: {}\".format(review_lens[0]))\n",
    "print(\"Maximum review length: {}\".format(max(review_lens)))"
   ]
  },
  {
   "cell_type": "markdown",
   "metadata": {
    "deletable": true,
    "editable": true
   },
   "source": [
    "Okay, a couple issues here. We seem to have one review with zero length. And, the maximum review length is way too many steps for our RNN. Let's truncate to 200 steps. For reviews shorter than 200, we'll pad with 0s. For reviews longer than 200, we can truncate them to the first 200 characters.\n",
    "\n",
    "> **Exercise:** First, remove the review with zero length from the `reviews_ints` list."
   ]
  },
  {
   "cell_type": "code",
   "execution_count": 38,
   "metadata": {
    "collapsed": false,
    "deletable": true,
    "editable": true
   },
   "outputs": [
    {
     "name": "stdout",
     "output_type": "stream",
     "text": [
      "found good reviews:  10\n",
      "long reviews:  0\n",
      "total found:  10\n"
     ]
    }
   ],
   "source": [
    "# Filter out that review with 0 length\n",
    "temp_reviews = []\n",
    "good=0\n",
    "long=0\n",
    "for review in reviews_ints:\n",
    "    if len(review) > 0:\n",
    "        good=good+1\n",
    "        if len(review) > 200:\n",
    "            long=long+1\n",
    "            review = review[:200]\n",
    "        temp_reviews.append(review)\n",
    "        \n",
    "print(\"found good reviews: \",good)\n",
    "print(\"long reviews: \",long)\n",
    "print(\"total found: \",len(reviews_ints))\n",
    "reviews_ints = temp_reviews"
   ]
  },
  {
   "cell_type": "markdown",
   "metadata": {
    "deletable": true,
    "editable": true
   },
   "source": [
    "> **Exercise:** Now, create an array `features` that contains the data we'll pass to the network. The data should come from `review_ints`, since we want to feed integers to the network. Each row should be 200 elements long. For reviews shorter than 200 words, left pad with 0s. That is, if the review is `['best', 'movie', 'ever']`, `[117, 18, 128]` as integers, the row will look like `[0, 0, 0, ..., 0, 117, 18, 128]`. For reviews longer than 200, use on the first 200 words as the feature vector.\n",
    "\n",
    "This isn't trivial and there are a bunch of ways to do this. But, if you're going to be building your own deep learning networks, you're going to have to get used to preparing your data.\n",
    "\n"
   ]
  },
  {
   "cell_type": "code",
   "execution_count": 45,
   "metadata": {
    "collapsed": false
   },
   "outputs": [
    {
     "name": "stdout",
     "output_type": "stream",
     "text": [
      "[0, 0, 0, 0, 0, 0, 0, 0, 0, 0, 0, 0, 0, 0, 0, 0, 23, 21, 78, 43]\n"
     ]
    }
   ],
   "source": [
    "seq_len = 20\n",
    "\n",
    "def left_padded(review):\n",
    "    review_length = len(review)\n",
    "    padded_review = []\n",
    "    \n",
    "    if(review_length > seq_len):\n",
    "        return review\n",
    "    \n",
    "    num_pad = seq_len - review_length\n",
    "    padded_review = [0 for i in range(num_pad)]\n",
    "    padded_review += review\n",
    "    return padded_review;\n",
    "\n",
    "#test\n",
    "print(left_padded([23,21,78,43]))"
   ]
  },
  {
   "cell_type": "code",
   "execution_count": 47,
   "metadata": {
    "collapsed": false,
    "deletable": true,
    "editable": true
   },
   "outputs": [
    {
     "name": "stdout",
     "output_type": "stream",
     "text": [
      "found:  10  short lists\n",
      "found:  0  okay lists\n"
     ]
    }
   ],
   "source": [
    "temp_array = []\n",
    "short =0\n",
    "okay=0\n",
    "\n",
    "for review in reviews_ints:\n",
    "    if(len(review)<seq_len):\n",
    "        short=short+1\n",
    "        temp_array.append(left_padded(review))\n",
    "    else:\n",
    "        okay=okay+1\n",
    "        temp_array.append(review)\n",
    "print(\"found: \",short,\" short lists\")\n",
    "print(\"found: \",okay,\" okay lists\")\n",
    "\n",
    "# transform to a numpy array\n",
    "temp_array\n",
    "features = np.array(temp_array, dtype=int)\n"
   ]
  },
  {
   "cell_type": "markdown",
   "metadata": {},
   "source": [
    "If you build features correctly, it should look like that cell output below."
   ]
  },
  {
   "cell_type": "code",
   "execution_count": 48,
   "metadata": {
    "collapsed": false,
    "deletable": true,
    "editable": true
   },
   "outputs": [
    {
     "name": "stdout",
     "output_type": "stream",
     "text": [
      "features:  (10, 20)\n"
     ]
    }
   ],
   "source": [
    "print(\"features: \",features.shape)"
   ]
  },
  {
   "cell_type": "markdown",
   "metadata": {
    "deletable": true,
    "editable": true
   },
   "source": [
    "## Training, Validation, Test\n",
    "\n"
   ]
  },
  {
   "cell_type": "markdown",
   "metadata": {
    "deletable": true,
    "editable": true
   },
   "source": [
    "With our data in nice shape, we'll split it into training, validation, and test sets.\n",
    "\n",
    "> **Exercise:** Create the training, validation, and test sets here. You'll need to create sets for the features and the labels, `train_x` and `train_y` for example. Define a split fraction, `split_frac` as the fraction of data to keep in the training set. Usually this is set to 0.8 or 0.9. The rest of the data will be split in half to create the validation and testing data."
   ]
  },
  {
   "cell_type": "code",
   "execution_count": 49,
   "metadata": {
    "collapsed": false
   },
   "outputs": [],
   "source": [
    "def split_into_frac(all_data, all_labels, split_frac):\n",
    "    ### method splits data based on given split_frac\n",
    "    ### naively, splits the data based on linear ordering\n",
    "    print(\"shape all_data: \",all_data.shape)\n",
    "    print(\"shape all_labels: \",len(all_labels))\n",
    "    \n",
    "    group_1_len = int(split_frac * len(all_data))\n",
    "    print(\"group_1_len: \", group_1_len)\n",
    "    \n",
    "    group_1_data = all_data[:group_1_len, :]\n",
    "    group_1_label = all_labels[:group_1_len]\n",
    "    \n",
    "    group_2_data = all_data[group_1_len:,:]\n",
    "    group_2_label = all_labels[group_1_len:]\n",
    "    \n",
    "    return group_1_data, group_1_label, group_2_data, group_2_label\n",
    "\n",
    "# simple test"
   ]
  },
  {
   "cell_type": "code",
   "execution_count": 68,
   "metadata": {
    "collapsed": false,
    "deletable": true,
    "editable": true
   },
   "outputs": [
    {
     "name": "stdout",
     "output_type": "stream",
     "text": [
      "shape all_data:  (10, 20)\n",
      "shape all_labels:  10\n",
      "group_1_len:  6\n",
      "shape all_data:  (4, 20)\n",
      "shape all_labels:  4\n",
      "group_1_len:  2\n",
      "\t\t\tFeature Shapes:\n",
      "Train set: \t\t(6, 20) \n",
      "Validation set: \t(2, 20) \n",
      "Test set: \t\t(2, 20)\n"
     ]
    }
   ],
   "source": [
    "split_frac_train_other = 0.6\n",
    "split_frac_val_test = 0.5\n",
    "# train_x, val_x = \n",
    "# train_y, val_y = \n",
    "\n",
    "# val_x, test_x = \n",
    "# val_y, test_y = \n",
    "\n",
    "train_x, train_y, other_x, other_y = split_into_frac(features, labels_int, split_frac_train_other)\n",
    "val_x, val_y, test_x, test_y = split_into_frac(other_x, other_y, split_frac_val_test)\n",
    "\n",
    "print(\"\\t\\t\\tFeature Shapes:\")\n",
    "print(\"Train set: \\t\\t{}\".format(train_x.shape), \n",
    "      \"\\nValidation set: \\t{}\".format(val_x.shape),\n",
    "      \"\\nTest set: \\t\\t{}\".format(test_x.shape))"
   ]
  },
  {
   "cell_type": "markdown",
   "metadata": {
    "deletable": true,
    "editable": true
   },
   "source": [
    "With train, validation, and text fractions of 0.8, 0.1, 0.1, the final shapes should look like:\n",
    "```\n",
    "                    Feature Shapes:\n",
    "Train set: \t\t (20000, 200) \n",
    "Validation set: \t(2500, 200) \n",
    "Test set: \t\t  (2501, 200)\n",
    "```"
   ]
  },
  {
   "cell_type": "markdown",
   "metadata": {
    "deletable": true,
    "editable": true
   },
   "source": [
    "## Build the graph\n",
    "\n",
    "Here, we'll build the graph. First up, defining the hyperparameters.\n",
    "\n",
    "* `lstm_size`: Number of units in the hidden layers in the LSTM cells. Usually larger is better performance wise. Common values are 128, 256, 512, etc.\n",
    "* `lstm_layers`: Number of LSTM layers in the network. I'd start with 1, then add more if I'm underfitting.\n",
    "* `batch_size`: The number of reviews to feed the network in one training pass. Typically this should be set as high as you can go without running out of memory.\n",
    "* `learning_rate`: Learning rate"
   ]
  },
  {
   "cell_type": "code",
   "execution_count": 51,
   "metadata": {
    "collapsed": true,
    "deletable": true,
    "editable": true
   },
   "outputs": [],
   "source": [
    "lstm_size = 8 # set an extremely low size to test on my local machine\n",
    "lstm_layers = 1\n",
    "batch_size = 2 # also small value to test locally\n",
    "learning_rate = 0.001"
   ]
  },
  {
   "cell_type": "markdown",
   "metadata": {
    "deletable": true,
    "editable": true
   },
   "source": [
    "For the network itself, we'll be passing in our 200 element long review vectors. Each batch will be `batch_size` vectors. We'll also be using dropout on the LSTM layer, so we'll make a placeholder for the keep probability."
   ]
  },
  {
   "cell_type": "markdown",
   "metadata": {
    "deletable": true,
    "editable": true
   },
   "source": [
    "> **Exercise:** Create the `inputs_`, `labels_`, and drop out `keep_prob` placeholders using `tf.placeholder`. `labels_` needs to be two-dimensional to work with some functions later.  Since `keep_prob` is a scalar (a 0-dimensional tensor), you shouldn't provide a size to `tf.placeholder`."
   ]
  },
  {
   "cell_type": "code",
   "execution_count": 75,
   "metadata": {
    "collapsed": false,
    "deletable": true,
    "editable": true
   },
   "outputs": [
    {
     "name": "stdout",
     "output_type": "stream",
     "text": [
      "n_words:  103\n"
     ]
    }
   ],
   "source": [
    "vocab = set(words)\n",
    "n_words = len(vocab)\n",
    "\n",
    "print(\"n_words: \",n_words)\n",
    "# Create the graph object\n",
    "graph = tf.Graph()\n",
    "\n",
    "# Add nodes to the graph\n",
    "with graph.as_default():\n",
    "    inputs_ = tf.placeholder(tf.int32, [None, None], name='inputs')\n",
    "    labels_ = tf.placeholder(tf.int32,name='labels')\n",
    "    keep_prob = tf.placeholder(tf.float32, name='keep_prob')"
   ]
  },
  {
   "cell_type": "markdown",
   "metadata": {
    "deletable": true,
    "editable": true
   },
   "source": [
    "### Embedding\n",
    "\n",
    "Now we'll add an embedding layer. We need to do this because there are 74000 words in our vocabulary. It is massively inefficient to one-hot encode our classes here. You should remember dealing with this problem from the word2vec lesson. Instead of one-hot encoding, we can have an embedding layer and use that layer as a lookup table. You could train an embedding layer using word2vec, then load it here. But, it's fine to just make a new layer and let the network learn the weights.\n",
    "\n",
    "> **Exercise:** Create the embedding lookup matrix as a `tf.Variable`. Use that embedding matrix to get the embedded vectors to pass to the LSTM cell with [`tf.nn.embedding_lookup`](https://www.tensorflow.org/api_docs/python/tf/nn/embedding_lookup). This function takes the embedding matrix and an input tensor, such as the review vectors. Then, it'll return another tensor with the embedded vectors. So, if the embedding layer has 200 units, the function will return a tensor with size [batch_size, 200].\n",
    "\n"
   ]
  },
  {
   "cell_type": "code",
   "execution_count": 90,
   "metadata": {
    "collapsed": false,
    "deletable": true,
    "editable": true
   },
   "outputs": [],
   "source": [
    "# Size of the embedding vectors (number of units in the embedding layer)\n",
    "embed_size = 30 \n",
    "\n",
    "with graph.as_default():\n",
    "    embedding = tf.Variable(tf.random_uniform((n_words, embed_size), -1.0, 1.0))# create embedding weight matrix here\n",
    "    embed = tf.nn.embedding_lookup(embedding, inputs_)# use tf.nn.embedding_lookup to get the hidden layer output"
   ]
  },
  {
   "cell_type": "markdown",
   "metadata": {
    "deletable": true,
    "editable": true
   },
   "source": [
    "### LSTM cell\n",
    "\n",
    "<img src=\"assets/network_diagram.png\" width=400px>\n",
    "\n",
    "Next, we'll create our LSTM cells to use in the recurrent network ([TensorFlow documentation](https://www.tensorflow.org/api_docs/python/tf/contrib/rnn)). Here we are just defining what the cells look like. This isn't actually building the graph, just defining the type of cells we want in our graph.\n",
    "\n",
    "To create a basic LSTM cell for the graph, you'll want to use `tf.contrib.rnn.BasicLSTMCell`. Looking at the function documentation:\n",
    "\n",
    "```\n",
    "tf.contrib.rnn.BasicLSTMCell(num_units, forget_bias=1.0, input_size=None, state_is_tuple=True, activation=<function tanh at 0x109f1ef28>)\n",
    "```\n",
    "\n",
    "you can see it takes a parameter called `num_units`, the number of units in the cell, called `lstm_size` in this code. So then, you can write something like \n",
    "\n",
    "```\n",
    "lstm = tf.contrib.rnn.BasicLSTMCell(num_units)\n",
    "```\n",
    "\n",
    "to create an LSTM cell with `num_units`. Next, you can add dropout to the cell with `tf.contrib.rnn.DropoutWrapper`. This just wraps the cell in another cell, but with dropout added to the inputs and/or outputs. It's a really convenient way to make your network better with almost no effort! So you'd do something like\n",
    "\n",
    "```\n",
    "drop = tf.contrib.rnn.DropoutWrapper(cell, output_keep_prob=keep_prob)\n",
    "```\n",
    "\n",
    "Most of the time, you're network will have better performance with more layers. That's sort of the magic of deep learning, adding more layers allows the network to learn really complex relationships. Again, there is a simple way to create multiple layers of LSTM cells with `tf.contrib.rnn.MultiRNNCell`:\n",
    "\n",
    "```\n",
    "cell = tf.contrib.rnn.MultiRNNCell([drop] * lstm_layers)\n",
    "```\n",
    "\n",
    "Here, `[drop] * lstm_layers` creates a list of cells (`drop`) that is `lstm_layers` long. The `MultiRNNCell` wrapper builds this into multiple layers of RNN cells, one for each cell in the list.\n",
    "\n",
    "So the final cell you're using in the network is actually multiple (or just one) LSTM cells with dropout. But it all works the same from an achitectural viewpoint, just a more complicated graph in the cell.\n",
    "\n",
    "> **Exercise:** Below, use `tf.contrib.rnn.BasicLSTMCell` to create an LSTM cell. Then, add drop out to it with `tf.contrib.rnn.DropoutWrapper`. Finally, create multiple LSTM layers with `tf.contrib.rnn.MultiRNNCell`.\n",
    "\n",
    "Here is [a tutorial on building RNNs](https://www.tensorflow.org/tutorials/recurrent) that will help you out.\n"
   ]
  },
  {
   "cell_type": "code",
   "execution_count": 77,
   "metadata": {
    "collapsed": false,
    "deletable": true,
    "editable": true
   },
   "outputs": [],
   "source": [
    "with graph.as_default():\n",
    "    # Your basic LSTM cell\n",
    "    num_units = 2\n",
    "    lstm = tf.contrib.rnn.BasicLSTMCell(num_units)\n",
    "    \n",
    "    # Add dropout to the cell\n",
    "    drop = tf.contrib.rnn.DropoutWrapper(lstm, output_keep_prob=keep_prob)\n",
    "    \n",
    "    # Stack up multiple LSTM layers, for deep learning\n",
    "    cell = tf.contrib.rnn.MultiRNNCell([drop]*lstm_layers)\n",
    "    \n",
    "    # Getting an initial state of all zeros\n",
    "    initial_state = cell.zero_state(batch_size, tf.float32)"
   ]
  },
  {
   "cell_type": "markdown",
   "metadata": {
    "deletable": true,
    "editable": true
   },
   "source": [
    "### RNN forward pass\n",
    "\n",
    "<img src=\"assets/network_diagram.png\" width=400px>\n",
    "\n",
    "Now we need to actually run the data through the RNN nodes. You can use [`tf.nn.dynamic_rnn`](https://www.tensorflow.org/api_docs/python/tf/nn/dynamic_rnn) to do this. You'd pass in the RNN cell you created (our multiple layered LSTM `cell` for instance), and the inputs to the network.\n",
    "\n",
    "```\n",
    "outputs, final_state = tf.nn.dynamic_rnn(cell, inputs, initial_state=initial_state)\n",
    "```\n",
    "\n",
    "Above I created an initial state, `initial_state`, to pass to the RNN. This is the cell state that is passed between the hidden layers in successive time steps. `tf.nn.dynamic_rnn` takes care of most of the work for us. We pass in our cell and the input to the cell, then it does the unrolling and everything else for us. It returns outputs for each time step and the final_state of the hidden layer.\n",
    "\n",
    "> **Exercise:** Use `tf.nn.dynamic_rnn` to add the forward pass through the RNN. Remember that we're actually passing in vectors from the embedding layer, `embed`.\n",
    "\n"
   ]
  },
  {
   "cell_type": "code",
   "execution_count": 78,
   "metadata": {
    "collapsed": false,
    "deletable": true,
    "editable": true
   },
   "outputs": [],
   "source": [
    "with graph.as_default():\n",
    "    outputs, final_state = tf.nn.dynamic_rnn(cell, embed, initial_state=initial_state)"
   ]
  },
  {
   "cell_type": "markdown",
   "metadata": {
    "deletable": true,
    "editable": true
   },
   "source": [
    "### Output\n",
    "\n",
    "We only care about the final output, we'll be using that as our sentiment prediction. So we need to grab the last output with `outputs[:, -1]`, the calculate the cost from that and `labels_`."
   ]
  },
  {
   "cell_type": "code",
   "execution_count": 79,
   "metadata": {
    "collapsed": false,
    "deletable": true,
    "editable": true
   },
   "outputs": [],
   "source": [
    "with graph.as_default():\n",
    "    predictions = tf.contrib.layers.fully_connected(outputs[:, -1], 1, activation_fn=tf.sigmoid)\n",
    "    cost = tf.losses.mean_squared_error(labels_, predictions)\n",
    "    \n",
    "    optimizer = tf.train.AdamOptimizer(learning_rate).minimize(cost)"
   ]
  },
  {
   "cell_type": "markdown",
   "metadata": {
    "deletable": true,
    "editable": true
   },
   "source": [
    "### Validation accuracy\n",
    "\n",
    "Here we can add a few nodes to calculate the accuracy which we'll use in the validation pass."
   ]
  },
  {
   "cell_type": "code",
   "execution_count": 80,
   "metadata": {
    "collapsed": false,
    "deletable": true,
    "editable": true
   },
   "outputs": [],
   "source": [
    "with graph.as_default():\n",
    "    correct_pred = tf.equal(tf.cast(tf.round(predictions), tf.int32), labels_)\n",
    "    accuracy = tf.reduce_mean(tf.cast(correct_pred, tf.float32))"
   ]
  },
  {
   "cell_type": "markdown",
   "metadata": {
    "deletable": true,
    "editable": true
   },
   "source": [
    "### Batching\n",
    "\n",
    "This is a simple function for returning batches from our data. First it removes data such that we only have full batches. Then it iterates through the `x` and `y` arrays and returns slices out of those arrays with size `[batch_size]`."
   ]
  },
  {
   "cell_type": "code",
   "execution_count": 81,
   "metadata": {
    "collapsed": true,
    "deletable": true,
    "editable": true
   },
   "outputs": [],
   "source": [
    "def get_batches(x, y, batch_size=100):\n",
    "    \n",
    "    n_batches = len(x)//batch_size\n",
    "    x, y = x[:n_batches*batch_size], y[:n_batches*batch_size]\n",
    "    for ii in range(0, len(x), batch_size):\n",
    "        yield x[ii:ii+batch_size], y[ii:ii+batch_size]"
   ]
  },
  {
   "cell_type": "markdown",
   "metadata": {
    "deletable": true,
    "editable": true
   },
   "source": [
    "## Training\n",
    "\n",
    "Below is the typical training code. If you want to do this yourself, feel free to delete all this code and implement it yourself. Before you run this, make sure the `checkpoints` directory exists."
   ]
  },
  {
   "cell_type": "code",
   "execution_count": 93,
   "metadata": {
    "collapsed": false
   },
   "outputs": [
    {
     "name": "stdout",
     "output_type": "stream",
     "text": [
      "[[  0  82  68   2   1  88  23   9  96  12   3  60  51   7  27  34  98  70\n",
      "   84  83]\n",
      " [  0   0  44  29   1  65  37  10  67  62  59   1  89  13  24  15   1 102\n",
      "   78  50]\n",
      " [  0   0   0   0   0   0   0   0   0  95  69  40   7  46  61  20  10  75\n",
      "   11  91]\n",
      " [  0   0   0   0   0   0  64  13   7   1  76 100  71  39   2  49  92  15\n",
      "   32  99]\n",
      " [  0   0   0   0   0   0   0   0   0   0   0  41  86  43  54  38  52  85\n",
      "   77  48]\n",
      " [  0   0   0   0   0   0   4   5  94 101   6 103  28  79  14  19  47  12\n",
      "   80  56]]\n"
     ]
    }
   ],
   "source": [
    "\n",
    "train_x[5,11]=53\n"
   ]
  },
  {
   "cell_type": "code",
   "execution_count": 83,
   "metadata": {
    "collapsed": false
   },
   "outputs": [
    {
     "name": "stdout",
     "output_type": "stream",
     "text": [
      "[1, 0, 1, 0, 1, 0]\n"
     ]
    }
   ],
   "source": [
    "print(train_y)"
   ]
  },
  {
   "cell_type": "code",
   "execution_count": 94,
   "metadata": {
    "collapsed": false
   },
   "outputs": [
    {
     "data": {
      "text/plain": [
       "array([[  0,  82,  68,   2,   1,  88,  23,   9,  96,  12,   3,  60,  51,\n",
       "          7,  27,  34,  98,  70,  84,  83],\n",
       "       [  0,   0,  44,  29,   1,  65,  37,  10,  67,  62,  59,   1,  89,\n",
       "         13,  24,  15,   1, 102,  78,  50],\n",
       "       [  0,   0,   0,   0,   0,   0,   0,   0,   0,  95,  69,  40,   7,\n",
       "         46,  61,  20,  10,  75,  11,  91],\n",
       "       [  0,   0,   0,   0,   0,   0,  64,  13,   7,   1,  76, 100,  71,\n",
       "         39,   2,  49,  92,  15,  32,  99],\n",
       "       [  0,   0,   0,   0,   0,   0,   0,   0,   0,   0,   0,  41,  86,\n",
       "         43,  54,  38,  52,  85,  77,  48],\n",
       "       [  0,   0,   0,   0,   0,   0,   4,   5,  94, 101,   6,  53,  28,\n",
       "         79,  14,  19,  47,  12,  80,  56]])"
      ]
     },
     "execution_count": 94,
     "metadata": {},
     "output_type": "execute_result"
    }
   ],
   "source": [
    "train_x"
   ]
  },
  {
   "cell_type": "code",
   "execution_count": 95,
   "metadata": {
    "collapsed": false,
    "deletable": true,
    "editable": true
   },
   "outputs": [
    {
     "name": "stdout",
     "output_type": "stream",
     "text": [
      "===========================================\n",
      "\n",
      "ii:  1  training_x:  [[  0  82  68   2   1  88  23   9  96  12   3  60  51   7  27  34  98  70\n",
      "   84  83]\n",
      " [  0   0  44  29   1  65  37  10  67  62  59   1  89  13  24  15   1 102\n",
      "   78  50]]  labels_y:  [1, 0]\n",
      "Val acc: 0.500\n",
      "===========================================\n",
      "\n",
      "ii:  2  training_x:  [[  0   0   0   0   0   0   0   0   0  95  69  40   7  46  61  20  10  75\n",
      "   11  91]\n",
      " [  0   0   0   0   0   0  64  13   7   1  76 100  71  39   2  49  92  15\n",
      "   32  99]]  labels_y:  [1, 0]\n",
      "Val acc: 0.500\n",
      "===========================================\n",
      "\n",
      "ii:  3  training_x:  [[  0   0   0   0   0   0   0   0   0   0   0  41  86  43  54  38  52  85\n",
      "   77  48]\n",
      " [  0   0   0   0   0   0   4   5  94 101   6  53  28  79  14  19  47  12\n",
      "   80  56]]  labels_y:  [1, 0]\n",
      "Val acc: 0.500\n",
      "===========================================\n",
      "\n",
      "ii:  1  training_x:  [[  0  82  68   2   1  88  23   9  96  12   3  60  51   7  27  34  98  70\n",
      "   84  83]\n",
      " [  0   0  44  29   1  65  37  10  67  62  59   1  89  13  24  15   1 102\n",
      "   78  50]]  labels_y:  [1, 0]\n",
      "Val acc: 0.500\n",
      "===========================================\n",
      "\n",
      "ii:  2  training_x:  [[  0   0   0   0   0   0   0   0   0  95  69  40   7  46  61  20  10  75\n",
      "   11  91]\n",
      " [  0   0   0   0   0   0  64  13   7   1  76 100  71  39   2  49  92  15\n",
      "   32  99]]  labels_y:  [1, 0]\n",
      "Epoch: 1/5 Iteration: 5 Train loss: 0.250\n",
      "Val acc: 0.500\n",
      "===========================================\n",
      "\n",
      "ii:  3  training_x:  [[  0   0   0   0   0   0   0   0   0   0   0  41  86  43  54  38  52  85\n",
      "   77  48]\n",
      " [  0   0   0   0   0   0   4   5  94 101   6  53  28  79  14  19  47  12\n",
      "   80  56]]  labels_y:  [1, 0]\n",
      "Val acc: 0.500\n",
      "===========================================\n",
      "\n",
      "ii:  1  training_x:  [[  0  82  68   2   1  88  23   9  96  12   3  60  51   7  27  34  98  70\n",
      "   84  83]\n",
      " [  0   0  44  29   1  65  37  10  67  62  59   1  89  13  24  15   1 102\n",
      "   78  50]]  labels_y:  [1, 0]\n",
      "Val acc: 0.500\n",
      "===========================================\n",
      "\n",
      "ii:  2  training_x:  [[  0   0   0   0   0   0   0   0   0  95  69  40   7  46  61  20  10  75\n",
      "   11  91]\n",
      " [  0   0   0   0   0   0  64  13   7   1  76 100  71  39   2  49  92  15\n",
      "   32  99]]  labels_y:  [1, 0]\n",
      "Val acc: 0.500\n",
      "===========================================\n",
      "\n",
      "ii:  3  training_x:  [[  0   0   0   0   0   0   0   0   0   0   0  41  86  43  54  38  52  85\n",
      "   77  48]\n",
      " [  0   0   0   0   0   0   4   5  94 101   6  53  28  79  14  19  47  12\n",
      "   80  56]]  labels_y:  [1, 0]\n",
      "Val acc: 0.500\n",
      "===========================================\n",
      "\n",
      "ii:  1  training_x:  [[  0  82  68   2   1  88  23   9  96  12   3  60  51   7  27  34  98  70\n",
      "   84  83]\n",
      " [  0   0  44  29   1  65  37  10  67  62  59   1  89  13  24  15   1 102\n",
      "   78  50]]  labels_y:  [1, 0]\n",
      "Epoch: 3/5 Iteration: 10 Train loss: 0.250\n",
      "Val acc: 0.500\n",
      "===========================================\n",
      "\n",
      "ii:  2  training_x:  [[  0   0   0   0   0   0   0   0   0  95  69  40   7  46  61  20  10  75\n",
      "   11  91]\n",
      " [  0   0   0   0   0   0  64  13   7   1  76 100  71  39   2  49  92  15\n",
      "   32  99]]  labels_y:  [1, 0]\n",
      "Val acc: 0.500\n",
      "===========================================\n",
      "\n",
      "ii:  3  training_x:  [[  0   0   0   0   0   0   0   0   0   0   0  41  86  43  54  38  52  85\n",
      "   77  48]\n",
      " [  0   0   0   0   0   0   4   5  94 101   6  53  28  79  14  19  47  12\n",
      "   80  56]]  labels_y:  [1, 0]\n",
      "Val acc: 0.500\n",
      "===========================================\n",
      "\n",
      "ii:  1  training_x:  [[  0  82  68   2   1  88  23   9  96  12   3  60  51   7  27  34  98  70\n",
      "   84  83]\n",
      " [  0   0  44  29   1  65  37  10  67  62  59   1  89  13  24  15   1 102\n",
      "   78  50]]  labels_y:  [1, 0]\n",
      "Val acc: 0.500\n",
      "===========================================\n",
      "\n",
      "ii:  2  training_x:  [[  0   0   0   0   0   0   0   0   0  95  69  40   7  46  61  20  10  75\n",
      "   11  91]\n",
      " [  0   0   0   0   0   0  64  13   7   1  76 100  71  39   2  49  92  15\n",
      "   32  99]]  labels_y:  [1, 0]\n",
      "Val acc: 0.500\n",
      "===========================================\n",
      "\n",
      "ii:  3  training_x:  [[  0   0   0   0   0   0   0   0   0   0   0  41  86  43  54  38  52  85\n",
      "   77  48]\n",
      " [  0   0   0   0   0   0   4   5  94 101   6  53  28  79  14  19  47  12\n",
      "   80  56]]  labels_y:  [1, 0]\n",
      "Epoch: 4/5 Iteration: 15 Train loss: 0.250\n",
      "Val acc: 0.500\n"
     ]
    }
   ],
   "source": [
    "epochs = 5\n",
    "\n",
    "with graph.as_default():\n",
    "    saver = tf.train.Saver()\n",
    "\n",
    "with tf.Session(graph=graph) as sess:\n",
    "    sess.run(tf.global_variables_initializer())\n",
    "    iteration = 1\n",
    "    for e in range(epochs):\n",
    "        state = sess.run(initial_state)\n",
    "        \n",
    "        for ii, (x, y) in enumerate(get_batches(train_x, train_y, batch_size), 1):\n",
    "            print(\"===========================================\\n\")\n",
    "            print(\"ii: \",ii,\" training_x: \",x,\" labels_y: \",y)\n",
    "            \n",
    "            feed = {inputs_: x,\n",
    "                    labels_: y,\n",
    "                    keep_prob: 0.5,\n",
    "                    initial_state: state}\n",
    "            loss, state, _ = sess.run([cost, final_state, optimizer], feed_dict=feed)\n",
    "            \n",
    "            if iteration%5==0:\n",
    "                print(\"Epoch: {}/{}\".format(e, epochs),\n",
    "                      \"Iteration: {}\".format(iteration),\n",
    "                      \"Train loss: {:.3f}\".format(loss))\n",
    "\n",
    "            if iteration%1==0:\n",
    "                val_acc = []\n",
    "                val_state = sess.run(cell.zero_state(batch_size, tf.float32))\n",
    "                for x, y in get_batches(val_x, val_y, batch_size):\n",
    "                    feed = {inputs_: x,\n",
    "                            labels_: y,\n",
    "                            keep_prob: 1,\n",
    "                            initial_state: val_state}\n",
    "                    batch_acc, val_state = sess.run([accuracy, final_state], feed_dict=feed)\n",
    "                    val_acc.append(batch_acc)\n",
    "                print(\"Val acc: {:.3f}\".format(np.mean(val_acc)))\n",
    "            iteration +=1\n",
    "    saver.save(sess, \"checkpoints/sentiment.ckpt\")"
   ]
  },
  {
   "cell_type": "markdown",
   "metadata": {
    "deletable": true,
    "editable": true
   },
   "source": [
    "## Testing"
   ]
  },
  {
   "cell_type": "code",
   "execution_count": 98,
   "metadata": {
    "collapsed": false,
    "deletable": true,
    "editable": true
   },
   "outputs": [
    {
     "name": "stdout",
     "output_type": "stream",
     "text": [
      "Test accuracy: 0.500\n"
     ]
    }
   ],
   "source": [
    "test_acc = []\n",
    "with tf.Session(graph=graph) as sess:\n",
    "    saver.restore(sess, tf.train.latest_checkpoint('./checkpoints'))\n",
    "    test_state = sess.run(cell.zero_state(batch_size, tf.float32))\n",
    "    for ii, (x, y) in enumerate(get_batches(test_x, test_y, batch_size), 1):\n",
    "        feed = {inputs_: x,\n",
    "                labels_: y,\n",
    "                keep_prob: 1,\n",
    "                initial_state: test_state}\n",
    "        batch_acc, test_state = sess.run([accuracy, final_state], feed_dict=feed)\n",
    "        test_acc.append(batch_acc)\n",
    "    print(\"Test accuracy: {:.3f}\".format(np.mean(test_acc)))"
   ]
  },
  {
   "cell_type": "code",
   "execution_count": null,
   "metadata": {
    "collapsed": true
   },
   "outputs": [],
   "source": []
  }
 ],
 "metadata": {
  "kernelspec": {
   "display_name": "Python 3",
   "language": "python",
   "name": "python3"
  },
  "language_info": {
   "codemirror_mode": {
    "name": "ipython",
    "version": 3
   },
   "file_extension": ".py",
   "mimetype": "text/x-python",
   "name": "python",
   "nbconvert_exporter": "python",
   "pygments_lexer": "ipython3",
   "version": "3.5.2"
  }
 },
 "nbformat": 4,
 "nbformat_minor": 2
}
