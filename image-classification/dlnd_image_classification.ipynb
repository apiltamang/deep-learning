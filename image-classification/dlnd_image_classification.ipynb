{
 "cells": [
  {
   "cell_type": "markdown",
   "metadata": {
    "collapsed": true,
    "deletable": true,
    "editable": true
   },
   "source": [
    "# Image Classification\n",
    "In this project, you'll classify images from the [CIFAR-10 dataset](https://www.cs.toronto.edu/~kriz/cifar.html).  The dataset consists of airplanes, dogs, cats, and other objects. You'll preprocess the images, then train a convolutional neural network on all the samples. The images need to be normalized and the labels need to be one-hot encoded.  You'll get to apply what you learned and build a convolutional, max pooling, dropout, and fully connected layers.  At the end, you'll get to see your neural network's predictions on the sample images.\n",
    "## Get the Data\n",
    "Run the following cell to download the [CIFAR-10 dataset for python](https://www.cs.toronto.edu/~kriz/cifar-10-python.tar.gz)."
   ]
  },
  {
   "cell_type": "code",
   "execution_count": 1,
   "metadata": {
    "collapsed": false,
    "deletable": true,
    "editable": true
   },
   "outputs": [
    {
     "name": "stdout",
     "output_type": "stream",
     "text": [
      "All files found!\n"
     ]
    }
   ],
   "source": [
    "\"\"\"\n",
    "DON'T MODIFY ANYTHING IN THIS CELL THAT IS BELOW THIS LINE\n",
    "\"\"\"\n",
    "from urllib.request import urlretrieve\n",
    "from os.path import isfile, isdir\n",
    "from tqdm import tqdm\n",
    "import problem_unittests as tests\n",
    "import tarfile\n",
    "\n",
    "cifar10_dataset_folder_path = 'cifar-10-batches-py'\n",
    "\n",
    "#use floyd's cifar=10 dataset if present\n",
    "floyd_cifar10_location = '/input/cifar-10/python.tar.gz'\n",
    "if isfile(floyd_cifar10_location):\n",
    "    tar_gz_path = floyd_cifar10_location\n",
    "else:\n",
    "    tar_gz_path = 'cifar-10-python.tar.gz'\n",
    "    \n",
    "class DLProgress(tqdm):\n",
    "    last_block = 0\n",
    "\n",
    "    def hook(self, block_num=1, block_size=1, total_size=None):\n",
    "        self.total = total_size\n",
    "        self.update((block_num - self.last_block) * block_size)\n",
    "        self.last_block = block_num\n",
    "\n",
    "if not isfile(tar_gz_path):\n",
    "    with DLProgress(unit='B', unit_scale=True, miniters=1, desc='CIFAR-10 Dataset') as pbar:\n",
    "        urlretrieve(\n",
    "            'https://www.cs.toronto.edu/~kriz/cifar-10-python.tar.gz',\n",
    "            tar_gz_path,\n",
    "            pbar.hook)\n",
    "\n",
    "if not isdir(cifar10_dataset_folder_path):\n",
    "    with tarfile.open(tar_gz_path) as tar:\n",
    "        tar.extractall()\n",
    "        tar.close()\n",
    "\n",
    "\n",
    "tests.test_folder_path(cifar10_dataset_folder_path)"
   ]
  },
  {
   "cell_type": "markdown",
   "metadata": {
    "deletable": true,
    "editable": true
   },
   "source": [
    "## Explore the Data\n",
    "The dataset is broken into batches to prevent your machine from running out of memory.  The CIFAR-10 dataset consists of 5 batches, named `data_batch_1`, `data_batch_2`, etc.. Each batch contains the labels and images that are one of the following:\n",
    "* airplane\n",
    "* automobile\n",
    "* bird\n",
    "* cat\n",
    "* deer\n",
    "* dog\n",
    "* frog\n",
    "* horse\n",
    "* ship\n",
    "* truck\n",
    "\n",
    "Understanding a dataset is part of making predictions on the data.  Play around with the code cell below by changing the `batch_id` and `sample_id`. The `batch_id` is the id for a batch (1-5). The `sample_id` is the id for a image and label pair in the batch.\n",
    "\n",
    "Ask yourself \"What are all possible labels?\", \"What is the range of values for the image data?\", \"Are the labels in order or random?\".  Answers to questions like these will help you preprocess the data and end up with better predictions."
   ]
  },
  {
   "cell_type": "code",
   "execution_count": 2,
   "metadata": {
    "collapsed": false,
    "deletable": true,
    "editable": true
   },
   "outputs": [
    {
     "name": "stdout",
     "output_type": "stream",
     "text": [
      "\n",
      "Stats of batch 1:\n",
      "Samples: 10000\n",
      "Label Counts: {0: 1005, 1: 974, 2: 1032, 3: 1016, 4: 999, 5: 937, 6: 1030, 7: 1001, 8: 1025, 9: 981}\n",
      "First 20 Labels: [6, 9, 9, 4, 1, 1, 2, 7, 8, 3, 4, 7, 7, 2, 9, 9, 9, 3, 2, 6]\n",
      "\n",
      "Example of Image 4:\n",
      "Image - Min Value: 0 Max Value: 254\n",
      "Image - Shape: (32, 32, 3)\n",
      "Label - Label Id: 1 Name: automobile\n"
     ]
    },
    {
     "data": {
      "image/png": "[encoded data removed]",
      "text/plain": [
       "<matplotlib.figure.Figure at 0x7f93ab9dd940>"
      ]
     },
     "metadata": {
      "image/png": {
       "height": 250,
       "width": 253
      }
     },
     "output_type": "display_data"
    }
   ],
   "source": [
    "%matplotlib inline\n",
    "%config InlineBackend.figure_format = 'retina'\n",
    "\n",
    "import helper\n",
    "import numpy as np\n",
    "\n",
    "# Explore the dataset\n",
    "batch_id = 1\n",
    "sample_id = 4\n",
    "helper.display_stats(cifar10_dataset_folder_path, batch_id, sample_id)"
   ]
  },
  {
   "cell_type": "markdown",
   "metadata": {
    "deletable": true,
    "editable": true
   },
   "source": [
    "## Implement Preprocess Functions\n",
    "### Normalize\n",
    "In the cell below, implement the `normalize` function to take in image data, `x`, and return it as a normalized Numpy array. The values should be in the range of 0 to 1, inclusive.  The return object should be the same shape as `x`."
   ]
  },
  {
   "cell_type": "code",
   "execution_count": 3,
   "metadata": {
    "collapsed": false,
    "deletable": true,
    "editable": true
   },
   "outputs": [
    {
     "name": "stdout",
     "output_type": "stream",
     "text": [
      "Tests Passed\n"
     ]
    }
   ],
   "source": [
    "def normalize(x):\n",
    "    \"\"\"\n",
    "    Normalize a list of sample image data in the range of 0 to 1\n",
    "    : x: List of image data.  The image shape is (32, 32, 3)\n",
    "    : return: Numpy array of normalize data\n",
    "    \"\"\"\n",
    "    # TODO: Implement Function\n",
    "    low = np.min(x)\n",
    "    width = np.max(x) - np.min(x)\n",
    "    scaled = (x - low)/width + low\n",
    "    return scaled\n",
    "\n",
    "\n",
    "\"\"\"\n",
    "DON'T MODIFY ANYTHING IN THIS CELL THAT IS BELOW THIS LINE\n",
    "\"\"\"\n",
    "tests.test_normalize(normalize)"
   ]
  },
  {
   "cell_type": "markdown",
   "metadata": {
    "deletable": true,
    "editable": true
   },
   "source": [
    "### One-hot encode\n",
    "Just like the previous code cell, you'll be implementing a function for preprocessing.  This time, you'll implement the `one_hot_encode` function. The input, `x`, are a list of labels.  Implement the function to return the list of labels as One-Hot encoded Numpy array.  The possible values for labels are 0 to 9. The one-hot encoding function should return the same encoding for each value between each call to `one_hot_encode`.  Make sure to save the map of encodings outside the function.\n",
    "\n",
    "Hint: Don't reinvent the wheel."
   ]
  },
  {
   "cell_type": "code",
   "execution_count": 4,
   "metadata": {
    "collapsed": false,
    "deletable": true,
    "editable": true
   },
   "outputs": [
    {
     "name": "stdout",
     "output_type": "stream",
     "text": [
      "Tests Passed\n"
     ]
    }
   ],
   "source": [
    "from sklearn import preprocessing\n",
    "import numpy as np\n",
    "def one_hot_encode(x):\n",
    "    \"\"\"\n",
    "    One hot encode a list of sample labels. Return a one-hot encoded vector for each label.\n",
    "    : x: List of sample Labels\n",
    "    : return: Numpy array of one-hot encoded labels\n",
    "    \"\"\"\n",
    "    # TODO: Implement Function\n",
    "    lb = preprocessing.LabelBinarizer()\n",
    "    lb.fit(np.array([[0, 0, 0,0,0,0,0,0,0,0],[0,0,0,0,0, 0,0, 0,0,0]]))\n",
    "    return lb.transform(x)\n",
    "\n",
    "\"\"\"\n",
    "DON'T MODIFY ANYTHING IN THIS CELL THAT IS BELOW THIS LINE\n",
    "\"\"\"\n",
    "tests.test_one_hot_encode(one_hot_encode)"
   ]
  },
  {
   "cell_type": "markdown",
   "metadata": {
    "deletable": true,
    "editable": true
   },
   "source": [
    "### Randomize Data\n",
    "As you saw from exploring the data above, the order of the samples are randomized.  It doesn't hurt to randomize it again, but you don't need to for this dataset."
   ]
  },
  {
   "cell_type": "markdown",
   "metadata": {
    "deletable": true,
    "editable": true
   },
   "source": [
    "## Preprocess all the data and save it\n",
    "Running the code cell below will preprocess all the CIFAR-10 data and save it to file. The code below also uses 10% of the training data for validation."
   ]
  },
  {
   "cell_type": "code",
   "execution_count": 5,
   "metadata": {
    "collapsed": false,
    "deletable": true,
    "editable": true
   },
   "outputs": [],
   "source": [
    "\"\"\"\n",
    "DON'T MODIFY ANYTHING IN THIS CELL\n",
    "\"\"\"\n",
    "# Preprocess Training, Validation, and Testing Data\n",
    "helper.preprocess_and_save_data(cifar10_dataset_folder_path, normalize, one_hot_encode)"
   ]
  },
  {
   "cell_type": "markdown",
   "metadata": {
    "deletable": true,
    "editable": true
   },
   "source": [
    "# Check Point\n",
    "This is your first checkpoint.  If you ever decide to come back to this notebook or have to restart the notebook, you can start from here.  The preprocessed data has been saved to disk."
   ]
  },
  {
   "cell_type": "code",
   "execution_count": 6,
   "metadata": {
    "collapsed": false,
    "deletable": true,
    "editable": true
   },
   "outputs": [],
   "source": [
    "\"\"\"\n",
    "DON'T MODIFY ANYTHING IN THIS CELL\n",
    "\"\"\"\n",
    "import pickle\n",
    "import problem_unittests as tests\n",
    "import helper\n",
    "\n",
    "# Load the Preprocessed Validation data\n",
    "valid_features, valid_labels = pickle.load(open('preprocess_validation.p', mode='rb'))"
   ]
  },
  {
   "cell_type": "markdown",
   "metadata": {
    "deletable": true,
    "editable": true
   },
   "source": [
    "## Build the network\n",
    "For the neural network, you'll build each layer into a function.  Most of the code you've seen has been outside of functions. To test your code more thoroughly, we require that you put each layer in a function.  This allows us to give you better feedback and test for simple mistakes using our unittests before you submit your project.\n",
    "\n",
    "If you're finding it hard to dedicate enough time for this course a week, we've provided a small shortcut to this part of the project. In the next couple of problems, you'll have the option to use [TensorFlow Layers](https://www.tensorflow.org/api_docs/python/tf/layers) or [TensorFlow Layers (contrib)](https://www.tensorflow.org/api_guides/python/contrib.layers) to build each layer, except \"Convolutional & Max Pooling\" layer.  TF Layers is similar to Keras's and TFLearn's abstraction to layers, so it's easy to pickup.\n",
    "\n",
    "If you would like to get the most of this course, try to solve all the problems without TF Layers.  Let's begin!\n",
    "### Input\n",
    "The neural network needs to read the image data, one-hot encoded labels, and dropout keep probability. Implement the following functions\n",
    "* Implement `neural_net_image_input`\n",
    " * Return a [TF Placeholder](https://www.tensorflow.org/api_docs/python/tf/placeholder)\n",
    " * Set the shape using `image_shape` with batch size set to `None`.\n",
    " * Name the TensorFlow placeholder \"x\" using the TensorFlow `name` parameter in the [TF Placeholder](https://www.tensorflow.org/api_docs/python/tf/placeholder).\n",
    "* Implement `neural_net_label_input`\n",
    " * Return a [TF Placeholder](https://www.tensorflow.org/api_docs/python/tf/placeholder)\n",
    " * Set the shape using `n_classes` with batch size set to `None`.\n",
    " * Name the TensorFlow placeholder \"y\" using the TensorFlow `name` parameter in the [TF Placeholder](https://www.tensorflow.org/api_docs/python/tf/placeholder).\n",
    "* Implement `neural_net_keep_prob_input`\n",
    " * Return a [TF Placeholder](https://www.tensorflow.org/api_docs/python/tf/placeholder) for dropout keep probability.\n",
    " * Name the TensorFlow placeholder \"keep_prob\" using the TensorFlow `name` parameter in the [TF Placeholder](https://www.tensorflow.org/api_docs/python/tf/placeholder).\n",
    "\n",
    "These names will be used at the end of the project to load your saved model.\n",
    "\n",
    "Note: `None` for shapes in TensorFlow allow for a dynamic size."
   ]
  },
  {
   "cell_type": "code",
   "execution_count": 7,
   "metadata": {
    "collapsed": false,
    "deletable": true,
    "editable": true
   },
   "outputs": [
    {
     "name": "stdout",
     "output_type": "stream",
     "text": [
      "Image Input Tests Passed.\n",
      "Label Input Tests Passed.\n",
      "Keep Prob Tests Passed.\n"
     ]
    }
   ],
   "source": [
    "import tensorflow as tf\n",
    "\n",
    "def neural_net_image_input(image_shape):\n",
    "    \"\"\"\n",
    "    Return a Tensor for a bach of image input\n",
    "    : image_shape: Shape of the images\n",
    "    : return: Tensor for image input.\n",
    "    \"\"\"\n",
    "    # TODO: Implement Function\n",
    "    return tf.placeholder(tf.float32,[None,image_shape[0],image_shape[1],image_shape[2]],name=\"x\")\n",
    "\n",
    "\n",
    "def neural_net_label_input(n_classes):\n",
    "    \"\"\"\n",
    "    Return a Tensor for a batch of label input\n",
    "    : n_classes: Number of classes\n",
    "    : return: Tensor for label input.\n",
    "    \"\"\"\n",
    "    # TODO: Implement Function\n",
    "    return tf.placeholder(tf.float32,[None,n_classes],name=\"y\")\n",
    "\n",
    "\n",
    "def neural_net_keep_prob_input():\n",
    "    \"\"\"\n",
    "    Return a Tensor for keep probability\n",
    "    : return: Tensor for keep probability.\n",
    "    \"\"\"\n",
    "    # TODO: Implement Function\n",
    "    return tf.placeholder(tf.float32,None,name=\"keep_prob\")\n",
    "\n",
    "\n",
    "\"\"\"\n",
    "DON'T MODIFY ANYTHING IN THIS CELL THAT IS BELOW THIS LINE\n",
    "\"\"\"\n",
    "tf.reset_default_graph()\n",
    "tests.test_nn_image_inputs(neural_net_image_input)\n",
    "tests.test_nn_label_inputs(neural_net_label_input)\n",
    "tests.test_nn_keep_prob_inputs(neural_net_keep_prob_input)"
   ]
  },
  {
   "cell_type": "markdown",
   "metadata": {
    "deletable": true,
    "editable": true
   },
   "source": [
    "### Convolution and Max Pooling Layer\n",
    "Convolution layers have a lot of success with images. For this code cell, you should implement the function `conv2d_maxpool` to apply convolution then max pooling:\n",
    "* Create the weight and bias using `conv_ksize`, `conv_num_outputs` and the shape of `x_tensor`.\n",
    "* Apply a convolution to `x_tensor` using weight and `conv_strides`.\n",
    " * We recommend you use same padding, but you're welcome to use any padding.\n",
    "* Add bias\n",
    "* Add a nonlinear activation to the convolution.\n",
    "* Apply Max Pooling using `pool_ksize` and `pool_strides`.\n",
    " * We recommend you use same padding, but you're welcome to use any padding.\n",
    "\n",
    "Note: You **can't** use [TensorFlow Layers](https://www.tensorflow.org/api_docs/python/tf/layers) or [TensorFlow Layers (contrib)](https://www.tensorflow.org/api_guides/python/contrib.layers) for this layer.  You're free to use any TensorFlow package for all the other layers."
   ]
  },
  {
   "cell_type": "code",
   "execution_count": 8,
   "metadata": {
    "collapsed": false,
    "deletable": true,
    "editable": true
   },
   "outputs": [
    {
     "name": "stdout",
     "output_type": "stream",
     "text": [
      "========== in method: conv2d_maxpool ==========\n",
      "shape of x_tensor got:  [None, 32, 32, 5]\n",
      "kernel for conv. layer:  (2, 2)  stride:  4\n",
      "kernel for pool layer:  (2, 2)  stride:  2\n",
      "Num input channels:  5\n",
      "Num output channels:  10\n",
      "shape of weights vector:  [2, 2, 5, 10]\n",
      "shape of bias vector:  [10]\n",
      "shape of conv. layer (after applying convolution):  [None, 8, 8, 10]\n",
      "shape of pool layer: (after applying max_pooling):  [None, 4, 4, 10]\n",
      "========== exit method: conv2d_maxpool ==========\n",
      "Tests Passed\n"
     ]
    }
   ],
   "source": [
    "def conv2d_maxpool(x_tensor, conv_num_outputs, conv_ksize, conv_strides, pool_ksize, pool_strides):\n",
    "    \"\"\"\n",
    "    Apply convolution then max pooling to x_tensor\n",
    "    :param x_tensor: TensorFlow Tensor\n",
    "    :param conv_num_outputs: Number of outputs for the convolutional layer\n",
    "    :param conv_ksize: kernal size for convolution layer\n",
    "    :param conv_strides: Stride 2-D Tuple for convolution layer\n",
    "    :param pool_ksize: kernal size 2-D Tuple for pooling layer\n",
    "    :param pool_strides: Stride 2-D Tuple for pooling layer\n",
    "    : return: A tensor that represents convolution and max pooling of x_tensor\n",
    "    \"\"\"\n",
    "    # TODO: Implement Function    \n",
    "    print(\"========== in method: conv2d_maxpool ==========\")\n",
    "    print(\"shape of x_tensor got: \",x_tensor.get_shape().as_list())\n",
    "    print(\"kernel for conv. layer: \",conv_ksize, \" stride: \",conv_strides[0])\n",
    "    print(\"kernel for pool layer: \",pool_ksize, \" stride: \",pool_strides[0])\n",
    "    \n",
    "    num_channels = x_tensor.get_shape().as_list()[3] \n",
    "    print(\"Num input channels: \",num_channels)\n",
    "    print(\"Num output channels: \",conv_num_outputs)\n",
    "    \n",
    "    # filter_ht, filter_wd, #_of_channels, #_of_conv_depth \n",
    "    weights = tf.Variable(tf.truncated_normal([conv_ksize[0], conv_ksize[1], num_channels, conv_num_outputs], mean=0.0, stddev=0.1, dtype=tf.float32, seed=None, name=None)) \n",
    "        \n",
    "    # num_of_conv_depth\n",
    "    bias = tf.Variable(tf.truncated_normal([conv_num_outputs], mean=0.0, stddev=0.1, dtype=tf.float32, seed=None, name=None))\n",
    "\n",
    "    print(\"shape of weights vector: \",weights.get_shape().as_list())\n",
    "    print(\"shape of bias vector: \",bias.get_shape().as_list())\n",
    "    \n",
    "    conv_layer = tf.nn.conv2d(x_tensor, weights, strides=[1,conv_strides[0],conv_strides[1],1], padding='SAME')\n",
    "    print(\"shape of conv. layer (after applying convolution): \",conv_layer.get_shape().as_list())\n",
    "    \n",
    "    conv_layer = tf.nn.bias_add(conv_layer, bias)\n",
    "    conv_layer = tf.nn.relu(conv_layer)\n",
    "    \n",
    "    pool_layer = tf.nn.max_pool(conv_layer, ksize=[1,pool_ksize[0],pool_ksize[1],1], strides=[1,pool_strides[0],pool_strides[1],1], padding='SAME')\n",
    "\n",
    "    print(\"shape of pool layer: (after applying max_pooling): \",pool_layer.get_shape().as_list())\n",
    "    print(\"========== exit method: conv2d_maxpool ==========\")\n",
    "    return pool_layer\n",
    "\n",
    "\"\"\"\n",
    "DON'T MODIFY ANYTHING IN THIS CELL THAT IS BELOW THIS LINE\n",
    "\"\"\"\n",
    "tests.test_con_pool(conv2d_maxpool)"
   ]
  },
  {
   "cell_type": "markdown",
   "metadata": {
    "deletable": true,
    "editable": true
   },
   "source": [
    "### Flatten Layer\n",
    "Implement the `flatten` function to change the dimension of `x_tensor` from a 4-D tensor to a 2-D tensor.  The output should be the shape (*Batch Size*, *Flattened Image Size*). You can use [TensorFlow Layers](https://www.tensorflow.org/api_docs/python/tf/layers) or [TensorFlow Layers (contrib)](https://www.tensorflow.org/api_guides/python/contrib.layers) for this layer."
   ]
  },
  {
   "cell_type": "code",
   "execution_count": 9,
   "metadata": {
    "collapsed": false,
    "deletable": true,
    "editable": true
   },
   "outputs": [
    {
     "name": "stdout",
     "output_type": "stream",
     "text": [
      "========== in method: flatten ==========\n",
      "shape of x_tensor got:  [None, 10, 30, 6]\n",
      "shape of flattened_tensor got:  [None, 1800]\n",
      "========== exit method: flatten ==========\n",
      "Tests Passed\n"
     ]
    }
   ],
   "source": [
    "def flatten(x_tensor):\n",
    "    \"\"\"\n",
    "    Flatten x_tensor to (Batch Size, Flattened Image Size)\n",
    "    : x_tensor: A tensor of size (Batch Size, ...), where ... are the image dimensions.\n",
    "    : return: A tensor of size (Batch Size, Flattened Image Size).\n",
    "    \"\"\"\n",
    "    # TODO: Implement Function\n",
    "    shape = x_tensor.get_shape().as_list()\n",
    "    print(\"========== in method: flatten ==========\")\n",
    "    print(\"shape of x_tensor got: \",x_tensor.get_shape().as_list())\n",
    "    \n",
    "    prod = 1\n",
    "    for i in shape:\n",
    "        if(i is not None):\n",
    "            prod *= i\n",
    "            \n",
    "    flattened_tensor = tf.reshape(x_tensor, [-1,prod])\n",
    "    print(\"shape of flattened_tensor got: \",flattened_tensor.get_shape().as_list())\n",
    "    print(\"========== exit method: flatten ==========\")\n",
    "    return flattened_tensor\n",
    "\n",
    "\n",
    "\"\"\"\n",
    "DON'T MODIFY ANYTHING IN THIS CELL THAT IS BELOW THIS LINE\n",
    "\"\"\"\n",
    "tests.test_flatten(flatten)"
   ]
  },
  {
   "cell_type": "markdown",
   "metadata": {
    "deletable": true,
    "editable": true
   },
   "source": [
    "### Fully-Connected Layer\n",
    "Implement the `fully_conn` function to apply a fully connected layer to `x_tensor` with the shape (*Batch Size*, *num_outputs*). You can use [TensorFlow Layers](https://www.tensorflow.org/api_docs/python/tf/layers) or [TensorFlow Layers (contrib)](https://www.tensorflow.org/api_guides/python/contrib.layers) for this layer."
   ]
  },
  {
   "cell_type": "code",
   "execution_count": 10,
   "metadata": {
    "collapsed": false,
    "deletable": true,
    "editable": true
   },
   "outputs": [
    {
     "name": "stdout",
     "output_type": "stream",
     "text": [
      "========== in method: full_conn ==========\n",
      "shape of x_tensor got:  [None, 128]\n",
      "shape of weights vector:  [128, 40]\n",
      "shape of bias vector:  [40]\n",
      "shape of fully_connected vector formed:  [None, 40]\n",
      "========== exit method: full_conn ==========\n",
      "Tests Passed\n"
     ]
    }
   ],
   "source": [
    "def fully_conn(x_tensor, num_outputs):\n",
    "    \"\"\"\n",
    "    Apply a fully connected layer to x_tensor using weight and bias\n",
    "    : x_tensor: A 2-D tensor where the first dimension is batch size.\n",
    "    : num_outputs: The number of output that the new tensor should be.\n",
    "    : return: A 2-D tensor where the second dimension is num_outputs.\n",
    "    \"\"\"\n",
    "    # TODO: Implement Function\n",
    "    print(\"========== in method: full_conn ==========\")\n",
    "    print(\"shape of x_tensor got: \",x_tensor.get_shape().as_list())\n",
    "\n",
    "    # evaluate number of neurons in flattened layer.\n",
    "    num_flattened = 1\n",
    "    for i in x_tensor.get_shape().as_list():\n",
    "        if(i is not None):\n",
    "            num_flattened *= i\n",
    "            \n",
    "    weights = tf.Variable(tf.truncated_normal([num_flattened,num_outputs],mean=0.0, stddev=0.1, dtype=tf.float32, seed=None, name=None))\n",
    "    bias = tf.Variable(tf.random_normal([num_outputs],mean=0.0, stddev=0.1, dtype=tf.float32, seed=None, name=None))\n",
    "\n",
    "    print(\"shape of weights vector: \",weights.get_shape().as_list())\n",
    "    print(\"shape of bias vector: \",bias.get_shape().as_list())\n",
    "    \n",
    "    fc = tf.reshape(x_tensor,[-1, num_flattened])\n",
    "    fc = tf.add(tf.matmul(fc,weights), bias)\n",
    "    fc = tf.nn.relu(fc)\n",
    "\n",
    "    print(\"shape of fully_connected vector formed: \",fc.get_shape().as_list())\n",
    "\n",
    "    print(\"========== exit method: full_conn ==========\")\n",
    "    return fc\n",
    "\n",
    "\n",
    "\"\"\"\n",
    "DON'T MODIFY ANYTHING IN THIS CELL THAT IS BELOW THIS LINE\n",
    "\"\"\"\n",
    "tests.test_fully_conn(fully_conn)"
   ]
  },
  {
   "cell_type": "markdown",
   "metadata": {
    "deletable": true,
    "editable": true
   },
   "source": [
    "### Output Layer\n",
    "Implement the `output` function to apply a fully connected layer to `x_tensor` with the shape (*Batch Size*, *num_outputs*). You can use [TensorFlow Layers](https://www.tensorflow.org/api_docs/python/tf/layers) or [TensorFlow Layers (contrib)](https://www.tensorflow.org/api_guides/python/contrib.layers) for this layer.\n",
    "\n",
    "Note: Activation, softmax, or cross entropy shouldn't be applied to this."
   ]
  },
  {
   "cell_type": "code",
   "execution_count": 11,
   "metadata": {
    "collapsed": false,
    "deletable": true,
    "editable": true
   },
   "outputs": [
    {
     "name": "stdout",
     "output_type": "stream",
     "text": [
      "========== in method: output ==========\n",
      "shape of x_tensor got:  [None, 128]\n",
      "shape of weights vector:  [128, 40]\n",
      "shape of bias vector:  [40]\n",
      "shape of out vector:  [None, 40]\n",
      "========== exit method: output ==========\n",
      "Tests Passed\n"
     ]
    }
   ],
   "source": [
    "def output(x_tensor, num_outputs):\n",
    "    \"\"\"\n",
    "    Apply a output layer to x_tensor using weight and bias\n",
    "    : x_tensor: A 2-D tensor where the first dimension is batch size.\n",
    "    : num_outputs: The number of output that the new tensor should be.\n",
    "    : return: A 2-D tensor where the second dimension is num_outputs.\n",
    "    \"\"\"\n",
    "    # TODO: Implement Function\n",
    "    print(\"========== in method: output ==========\")\n",
    "    print(\"shape of x_tensor got: \",x_tensor.get_shape().as_list())\n",
    "    input_tensor_shape = x_tensor.get_shape().as_list()\n",
    "    \n",
    "    needed_length = input_tensor_shape[1]   \n",
    "    \n",
    "    weights = tf.Variable(tf.truncated_normal([needed_length, num_outputs],mean=0.0, stddev=0.1, dtype=tf.float32, seed=None, name=None))\n",
    "    bias = tf.Variable(tf.truncated_normal([num_outputs],mean=0.0, stddev=0.1, dtype=tf.float32, seed=None, name=None))\n",
    "    \n",
    "    print(\"shape of weights vector: \",weights.get_shape().as_list())\n",
    "    print(\"shape of bias vector: \",bias.get_shape().as_list())\n",
    "    \n",
    "    out = tf.add(tf.matmul(x_tensor, weights), bias)\n",
    "    print(\"shape of out vector: \",out.get_shape().as_list())\n",
    "    print(\"========== exit method: output ==========\")\n",
    "    return out\n",
    "\n",
    "\n",
    "\"\"\"\n",
    "DON'T MODIFY ANYTHING IN THIS CELL THAT IS BELOW THIS LINE\n",
    "\"\"\"\n",
    "tests.test_output(output)"
   ]
  },
  {
   "cell_type": "markdown",
   "metadata": {
    "deletable": true,
    "editable": true
   },
   "source": [
    "### Create Convolutional Model\n",
    "Implement the function `conv_net` to create a convolutional neural network model. The function takes in a batch of images, `x`, and outputs logits.  Use the layers you created above to create this model:\n",
    "\n",
    "* Apply 1, 2, or 3 Convolution and Max Pool layers\n",
    "* Apply a Flatten Layer\n",
    "* Apply 1, 2, or 3 Fully Connected Layers\n",
    "* Apply an Output Layer\n",
    "* Return the output\n",
    "* Apply [TensorFlow's Dropout](https://www.tensorflow.org/api_docs/python/tf/nn/dropout) to one or more layers in the model using `keep_prob`. "
   ]
  },
  {
   "cell_type": "code",
   "execution_count": 24,
   "metadata": {
    "collapsed": false,
    "deletable": true,
    "editable": true
   },
   "outputs": [
    {
     "name": "stdout",
     "output_type": "stream",
     "text": [
      "====================== Building conv_net ==========================\n",
      "========== in method: conv2d_maxpool ==========\n",
      "shape of x_tensor got:  [None, 32, 32, 3]\n",
      "kernel for conv. layer:  (2, 2)  stride:  1\n",
      "kernel for pool layer:  (2, 2)  stride:  2\n",
      "Num input channels:  3\n",
      "Num output channels:  32\n",
      "shape of weights vector:  [2, 2, 3, 32]\n",
      "shape of bias vector:  [32]\n",
      "shape of conv. layer (after applying convolution):  [None, 32, 32, 32]\n",
      "shape of pool layer: (after applying max_pooling):  [None, 16, 16, 32]\n",
      "========== exit method: conv2d_maxpool ==========\n",
      "========== in method: conv2d_maxpool ==========\n",
      "shape of x_tensor got:  [None, 16, 16, 32]\n",
      "kernel for conv. layer:  (2, 2)  stride:  1\n",
      "kernel for pool layer:  (1, 1)  stride:  1\n",
      "Num input channels:  32\n",
      "Num output channels:  64\n",
      "shape of weights vector:  [2, 2, 32, 64]\n",
      "shape of bias vector:  [64]\n",
      "shape of conv. layer (after applying convolution):  [None, 16, 16, 64]\n",
      "shape of pool layer: (after applying max_pooling):  [None, 16, 16, 64]\n",
      "========== exit method: conv2d_maxpool ==========\n",
      "========== in method: conv2d_maxpool ==========\n",
      "shape of x_tensor got:  [None, 16, 16, 64]\n",
      "kernel for conv. layer:  (2, 2)  stride:  1\n",
      "kernel for pool layer:  (1, 1)  stride:  1\n",
      "Num input channels:  64\n",
      "Num output channels:  128\n",
      "shape of weights vector:  [2, 2, 64, 128]\n",
      "shape of bias vector:  [128]\n",
      "shape of conv. layer (after applying convolution):  [None, 16, 16, 128]\n",
      "shape of pool layer: (after applying max_pooling):  [None, 16, 16, 128]\n",
      "========== exit method: conv2d_maxpool ==========\n",
      "========== in method: flatten ==========\n",
      "shape of x_tensor got:  [None, 16, 16, 128]\n",
      "shape of flattened_tensor got:  [None, 32768]\n",
      "========== exit method: flatten ==========\n",
      "========== in method: full_conn ==========\n",
      "shape of x_tensor got:  [None, 32768]\n",
      "shape of weights vector:  [32768, 256]\n",
      "shape of bias vector:  [256]\n",
      "shape of fully_connected vector formed:  [None, 256]\n",
      "========== exit method: full_conn ==========\n",
      "========== in method: full_conn ==========\n",
      "shape of x_tensor got:  [None, 256]\n",
      "shape of weights vector:  [256, 64]\n",
      "shape of bias vector:  [64]\n",
      "shape of fully_connected vector formed:  [None, 64]\n",
      "========== exit method: full_conn ==========\n",
      "========== in method: output ==========\n",
      "shape of x_tensor got:  [None, 64]\n",
      "shape of weights vector:  [64, 10]\n",
      "shape of bias vector:  [10]\n",
      "shape of out vector:  [None, 10]\n",
      "========== exit method: output ==========\n",
      "====================== Finished building conv_net ====================\n",
      "====================== Building conv_net ==========================\n",
      "========== in method: conv2d_maxpool ==========\n",
      "shape of x_tensor got:  [None, 32, 32, 3]\n",
      "kernel for conv. layer:  (2, 2)  stride:  1\n",
      "kernel for pool layer:  (2, 2)  stride:  2\n",
      "Num input channels:  3\n",
      "Num output channels:  32\n",
      "shape of weights vector:  [2, 2, 3, 32]\n",
      "shape of bias vector:  [32]\n",
      "shape of conv. layer (after applying convolution):  [None, 32, 32, 32]\n",
      "shape of pool layer: (after applying max_pooling):  [None, 16, 16, 32]\n",
      "========== exit method: conv2d_maxpool ==========\n",
      "========== in method: conv2d_maxpool ==========\n",
      "shape of x_tensor got:  [None, 16, 16, 32]\n",
      "kernel for conv. layer:  (2, 2)  stride:  1\n",
      "kernel for pool layer:  (1, 1)  stride:  1\n",
      "Num input channels:  32\n",
      "Num output channels:  64\n",
      "shape of weights vector:  [2, 2, 32, 64]\n",
      "shape of bias vector:  [64]\n",
      "shape of conv. layer (after applying convolution):  [None, 16, 16, 64]\n",
      "shape of pool layer: (after applying max_pooling):  [None, 16, 16, 64]\n",
      "========== exit method: conv2d_maxpool ==========\n",
      "========== in method: conv2d_maxpool ==========\n",
      "shape of x_tensor got:  [None, 16, 16, 64]\n",
      "kernel for conv. layer:  (2, 2)  stride:  1\n",
      "kernel for pool layer:  (1, 1)  stride:  1\n",
      "Num input channels:  64\n",
      "Num output channels:  128\n",
      "shape of weights vector:  [2, 2, 64, 128]\n",
      "shape of bias vector:  [128]\n",
      "shape of conv. layer (after applying convolution):  [None, 16, 16, 128]\n",
      "shape of pool layer: (after applying max_pooling):  [None, 16, 16, 128]\n",
      "========== exit method: conv2d_maxpool ==========\n",
      "========== in method: flatten ==========\n",
      "shape of x_tensor got:  [None, 16, 16, 128]\n",
      "shape of flattened_tensor got:  [None, 32768]\n",
      "========== exit method: flatten ==========\n",
      "========== in method: full_conn ==========\n",
      "shape of x_tensor got:  [None, 32768]\n",
      "shape of weights vector:  [32768, 256]\n",
      "shape of bias vector:  [256]\n",
      "shape of fully_connected vector formed:  [None, 256]\n",
      "========== exit method: full_conn ==========\n",
      "========== in method: full_conn ==========\n",
      "shape of x_tensor got:  [None, 256]\n",
      "shape of weights vector:  [256, 64]\n",
      "shape of bias vector:  [64]\n",
      "shape of fully_connected vector formed:  [None, 64]\n",
      "========== exit method: full_conn ==========\n",
      "========== in method: output ==========\n",
      "shape of x_tensor got:  [None, 64]\n",
      "shape of weights vector:  [64, 10]\n",
      "shape of bias vector:  [10]\n",
      "shape of out vector:  [None, 10]\n",
      "========== exit method: output ==========\n",
      "====================== Finished building conv_net ====================\n",
      "Neural Network Built!\n"
     ]
    }
   ],
   "source": [
    "def conv_net(x, keep_prob):\n",
    "    \"\"\"\n",
    "    Create a convolutional neural network model\n",
    "    : x: Placeholder tensor that holds image data.\n",
    "    : keep_prob: Placeholder tensor that hold dropout keep probability.\n",
    "    : return: Tensor that represents logits\n",
    "    \"\"\"\n",
    "    # TODO: Apply 1, 2, or 3 Convolution and Max Pool layers\n",
    "    #    Play around with different number of outputs, kernel size and stride\n",
    "    # Function Definition from Above:\n",
    "    #    conv2d_maxpool(x_tensor, conv_num_outputs, conv_ksize, conv_strides, pool_ksize, pool_strides)\n",
    "\n",
    "    print(\"====================== Building conv_net ==========================\")\n",
    "    conv_num_depths = 32              # num. depth on the conv. layer\n",
    "    conv_ksize = (2, 2)               # filter dimension (kernel for convolution)\n",
    "    conv_strides = (1, 1)              # stride for running the filter\n",
    "    pool_ksize = (2, 2)               # kernel for pooling layer  \n",
    "    pool_strides = (2, 2)            # stride for pooling layer    \n",
    "    conv_layer_1 = conv2d_maxpool(x, conv_num_depths, conv_ksize, conv_strides, pool_ksize, pool_strides)\n",
    "\n",
    "    conv_num_depths = 64\n",
    "    conv_ksize = (2, 2)               # filter dimension (kernel for convolution)\n",
    "    conv_strides = (1, 1)              # stride for running the filter\n",
    "    pool_ksize = (1, 1)               # kernel for pooling layer  \n",
    "    pool_strides = (1, 1)            # stride for pooling layer    \n",
    "    conv_layer_2 = conv2d_maxpool(conv_layer_1, conv_num_depths, conv_ksize, conv_strides, pool_ksize, pool_strides)\n",
    "    \n",
    "    \n",
    "    conv_num_depths = 128\n",
    "    conv_ksize = (2, 2)               # filter dimension (kernel for convolution)\n",
    "    conv_strides = (1, 1)              # stride for running the filter\n",
    "    pool_ksize = (1, 1)               # kernel for pooling layer  \n",
    "    pool_strides = (1, 1)            # stride for pooling layer\n",
    "    conv_layer_3 = conv2d_maxpool(conv_layer_2, conv_num_depths, conv_ksize, conv_strides, pool_ksize, pool_strides)\n",
    "   \n",
    "\n",
    "    # TODO: Apply a Flatten Layer\n",
    "    # Function Definition from Above:\n",
    "    #   flatten(x_tensor)    \n",
    "    flat_layer = flatten(conv_layer_3)\n",
    "\n",
    "    # TODO: Apply 1, 2, or 3 Fully Connected Layers\n",
    "    #    Play around with different number of outputs\n",
    "    # Function Definition from Above:\n",
    "    #   fully_conn(x_tensor, num_outputs)\n",
    "    num_outputs = 256\n",
    "    fully_conn_layer = fully_conn(flat_layer, num_outputs)\n",
    "    fully_conn_layer = tf.nn.dropout(fully_conn_layer, keep_prob)\n",
    "    \n",
    "    num_outputs = 64\n",
    "    fully_conn_layer = fully_conn(fully_conn_layer, num_outputs)\n",
    "    fully_conn_layer = tf.nn.dropout(fully_conn_layer, keep_prob)\n",
    "    \n",
    "    # TODO: Apply an Output Layer\n",
    "    #    Set this to the number of classes\n",
    "    # Function Definition from Above:\n",
    "    #   output(x_tensor, num_outputs    \n",
    "    num_classes = 10\n",
    "    output_layer = output(fully_conn_layer, num_classes)\n",
    "    \n",
    "    print(\"====================== Finished building conv_net ====================\")\n",
    "    # TODO: return output\n",
    "    return output_layer\n",
    "\n",
    "\"\"\"\n",
    "DON'T MODIFY ANYTHING IN THIS CELL THAT IS BELOW THIS LINE\n",
    "\"\"\"\n",
    "\n",
    "##############################\n",
    "## Build the Neural Network ##\n",
    "##############################\n",
    "\n",
    "# Remove previous weights, bias, inputs, etc..\n",
    "tf.reset_default_graph()\n",
    "\n",
    "# Inputs\n",
    "x = neural_net_image_input((32, 32, 3))\n",
    "y = neural_net_label_input(10)\n",
    "keep_prob = neural_net_keep_prob_input()\n",
    "\n",
    "# Model\n",
    "logits = conv_net(x, keep_prob)\n",
    "\n",
    "# Name logits Tensor, so that is can be loaded from disk after training\n",
    "logits = tf.identity(logits, name='logits')\n",
    "\n",
    "# Loss and Optimizer\n",
    "cost = tf.reduce_mean(tf.nn.softmax_cross_entropy_with_logits(logits=logits, labels=y))\n",
    "optimizer = tf.train.AdamOptimizer().minimize(cost)\n",
    "\n",
    "# Accuracy\n",
    "correct_pred = tf.equal(tf.argmax(logits, 1), tf.argmax(y, 1))\n",
    "accuracy = tf.reduce_mean(tf.cast(correct_pred, tf.float32), name='accuracy')\n",
    "\n",
    "tests.test_conv_net(conv_net)"
   ]
  },
  {
   "cell_type": "markdown",
   "metadata": {
    "deletable": true,
    "editable": true
   },
   "source": [
    "## Train the Neural Network\n",
    "### Single Optimization\n",
    "Implement the function `train_neural_network` to do a single optimization.  The optimization should use `optimizer` to optimize in `session` with a `feed_dict` of the following:\n",
    "* `x` for image input\n",
    "* `y` for labels\n",
    "* `keep_prob` for keep probability for dropout\n",
    "\n",
    "This function will be called for each batch, so `tf.global_variables_initializer()` has already been called.\n",
    "\n",
    "Note: Nothing needs to be returned. This function is only optimizing the neural network."
   ]
  },
  {
   "cell_type": "code",
   "execution_count": 15,
   "metadata": {
    "collapsed": false,
    "deletable": true,
    "editable": true
   },
   "outputs": [
    {
     "name": "stdout",
     "output_type": "stream",
     "text": [
      "Tests Passed\n"
     ]
    }
   ],
   "source": [
    "def train_neural_network(session, optimizer, keep_probability, feature_batch, label_batch):\n",
    "    \"\"\"\n",
    "    Optimize the session on a batch of images and labels\n",
    "    : session: Current TensorFlow session\n",
    "    : optimizer: TensorFlow optimizer function\n",
    "    : keep_probability: keep probability\n",
    "    : feature_batch: Batch of Numpy image data\n",
    "    : label_batch: Batch of Numpy label data\n",
    "    \"\"\"\n",
    "    # TODO: Implement Function    \n",
    "\n",
    "    session.run(optimizer, feed_dict={x: feature_batch, y: label_batch, keep_prob: keep_probability})\n",
    "\n",
    "\n",
    "\"\"\"\n",
    "DON'T MODIFY ANYTHING IN THIS CELL THAT IS BELOW THIS LINE\n",
    "\"\"\"\n",
    "tests.test_train_nn(train_neural_network)"
   ]
  },
  {
   "cell_type": "markdown",
   "metadata": {
    "deletable": true,
    "editable": true
   },
   "source": [
    "### Show Stats\n",
    "Implement the function `print_stats` to print loss and validation accuracy.  Use the global variables `valid_features` and `valid_labels` to calculate validation accuracy.  Use a keep probability of `1.0` to calculate the loss and validation accuracy."
   ]
  },
  {
   "cell_type": "code",
   "execution_count": 16,
   "metadata": {
    "collapsed": false,
    "deletable": true,
    "editable": true
   },
   "outputs": [],
   "source": [
    "def print_stats(session, feature_batch, label_batch, cost, accuracy):\n",
    "    \"\"\"\n",
    "    Print information about loss and validation accuracy\n",
    "    : session: Current TensorFlow session\n",
    "    : feature_batch: Batch of Numpy image data\n",
    "    : label_batch: Batch of Numpy label data\n",
    "    : cost: TensorFlow cost function\n",
    "    : accuracy: TensorFlow accuracy function\n",
    "    \"\"\"\n",
    "    # TODO: Implement Function\n",
    "    loss = session.run(cost, feed_dict={x: feature_batch, y: label_batch, keep_prob: 1.0})\n",
    "    train_acc = session.run(accuracy, feed_dict={x: feature_batch, y: label_batch, keep_prob: 1.0})\n",
    "    valid_acc = sess.run(accuracy, feed_dict= {\n",
    "        x: valid_features,\n",
    "        y: valid_labels,\n",
    "        keep_prob: 1.0\n",
    "    })\n",
    "\n",
    "    \n",
    "    print('Loss: {:>10.4f} Training Accuracy: {:.6f} Validation Accuracy {:.6f}'.format\n",
    "          (loss, train_acc, valid_acc))"
   ]
  },
  {
   "cell_type": "markdown",
   "metadata": {
    "deletable": true,
    "editable": true
   },
   "source": [
    "### Hyperparameters\n",
    "Tune the following parameters:\n",
    "* Set `epochs` to the number of iterations until the network stops learning or start overfitting\n",
    "* Set `batch_size` to the highest number that your machine has memory for.  Most people set them to common sizes of memory:\n",
    " * 64\n",
    " * 128\n",
    " * 256\n",
    " * ...\n",
    "* Set `keep_probability` to the probability of keeping a node using dropout"
   ]
  },
  {
   "cell_type": "code",
   "execution_count": 17,
   "metadata": {
    "collapsed": true,
    "deletable": true,
    "editable": true
   },
   "outputs": [],
   "source": [
    "# TODO: Tune Parameters\n",
    "epochs = 12\n",
    "batch_size = 512\n",
    "keep_probability = 0.5"
   ]
  },
  {
   "cell_type": "markdown",
   "metadata": {
    "deletable": true,
    "editable": true
   },
   "source": [
    "### Train on a Single CIFAR-10 Batch\n",
    "Instead of training the neural network on all the CIFAR-10 batches of data, let's use a single batch. This should save time while you iterate on the model to get a better accuracy.  Once the final validation accuracy is 50% or greater, run the model on all the data in the next section."
   ]
  },
  {
   "cell_type": "code",
   "execution_count": 25,
   "metadata": {
    "collapsed": false,
    "deletable": true,
    "editable": true
   },
   "outputs": [
    {
     "name": "stdout",
     "output_type": "stream",
     "text": [
      "Checking the Training on a Single Batch...\n",
      "Epoch  1, CIFAR-10 Batch 1:  Loss:     2.2992 Training Accuracy: 0.101351 Validation Accuracy 0.105600\n",
      "Epoch  2, CIFAR-10 Batch 1:  Loss:     2.2793 Training Accuracy: 0.162162 Validation Accuracy 0.178400\n",
      "Epoch  3, CIFAR-10 Batch 1:  Loss:     2.2148 Training Accuracy: 0.182432 Validation Accuracy 0.188800\n",
      "Epoch  4, CIFAR-10 Batch 1:  Loss:     2.1337 Training Accuracy: 0.233108 Validation Accuracy 0.223800\n",
      "Epoch  5, CIFAR-10 Batch 1:  Loss:     2.0734 Training Accuracy: 0.263514 Validation Accuracy 0.260400\n",
      "Epoch  6, CIFAR-10 Batch 1:  Loss:     2.0183 Training Accuracy: 0.293919 Validation Accuracy 0.291200\n",
      "Epoch  7, CIFAR-10 Batch 1:  Loss:     1.9338 Training Accuracy: 0.334459 Validation Accuracy 0.334600\n",
      "Epoch  8, CIFAR-10 Batch 1:  Loss:     1.8547 Training Accuracy: 0.398649 Validation Accuracy 0.391200\n",
      "Epoch  9, CIFAR-10 Batch 1:  Loss:     1.7997 Training Accuracy: 0.381757 Validation Accuracy 0.390600\n",
      "Epoch 10, CIFAR-10 Batch 1:  Loss:     1.7264 Training Accuracy: 0.425676 Validation Accuracy 0.416600\n",
      "Epoch 11, CIFAR-10 Batch 1:  Loss:     1.6660 Training Accuracy: 0.462838 Validation Accuracy 0.432400\n",
      "Epoch 12, CIFAR-10 Batch 1:  Loss:     1.6388 Training Accuracy: 0.462838 Validation Accuracy 0.432600\n"
     ]
    }
   ],
   "source": [
    "\"\"\"\n",
    "DON'T MODIFY ANYTHING IN THIS CELL\n",
    "\"\"\"\n",
    "print('Checking the Training on a Single Batch...')\n",
    "with tf.Session() as sess:\n",
    "    # Initializing the variables\n",
    "    sess.run(tf.global_variables_initializer())\n",
    "    \n",
    "    # Training cycle\n",
    "    for epoch in range(epochs):\n",
    "        batch_i = 1\n",
    "        for batch_features, batch_labels in helper.load_preprocess_training_batch(batch_i, batch_size):\n",
    "            train_neural_network(sess, optimizer, keep_probability, batch_features, batch_labels)\n",
    "        print('Epoch {:>2}, CIFAR-10 Batch {}:  '.format(epoch + 1, batch_i), end='')\n",
    "        print_stats(sess, batch_features, batch_labels, cost, accuracy)\n",
    "    \n",
    "    "
   ]
  },
  {
   "cell_type": "markdown",
   "metadata": {
    "deletable": true,
    "editable": true
   },
   "source": [
    "### Fully Train the Model\n",
    "Now that you got a good accuracy with a single CIFAR-10 batch, try it with all five batches."
   ]
  },
  {
   "cell_type": "code",
   "execution_count": 19,
   "metadata": {
    "collapsed": false,
    "deletable": true,
    "editable": true
   },
   "outputs": [
    {
     "name": "stdout",
     "output_type": "stream",
     "text": [
      "Training...\n",
      "Epoch  1, CIFAR-10 Batch 1:  Loss:     2.2917 Training Accuracy: 0.112624 Validation Accuracy 0.125800\n",
      "Epoch  1, CIFAR-10 Batch 2:  Loss:     2.2616 Training Accuracy: 0.167079 Validation Accuracy 0.161000\n",
      "Epoch  1, CIFAR-10 Batch 3:  Loss:     2.2343 Training Accuracy: 0.195545 Validation Accuracy 0.191000\n",
      "Epoch  1, CIFAR-10 Batch 4:  Loss:     2.1532 Training Accuracy: 0.221535 Validation Accuracy 0.196200\n",
      "Epoch  1, CIFAR-10 Batch 5:  Loss:     2.1254 Training Accuracy: 0.258663 Validation Accuracy 0.259000\n",
      "Epoch  2, CIFAR-10 Batch 1:  Loss:     2.0804 Training Accuracy: 0.256188 Validation Accuracy 0.253200\n",
      "Epoch  2, CIFAR-10 Batch 2:  Loss:     2.0251 Training Accuracy: 0.311881 Validation Accuracy 0.301600\n",
      "Epoch  2, CIFAR-10 Batch 3:  Loss:     1.9473 Training Accuracy: 0.323020 Validation Accuracy 0.307000\n",
      "Epoch  2, CIFAR-10 Batch 4:  Loss:     1.8858 Training Accuracy: 0.349010 Validation Accuracy 0.319200\n",
      "Epoch  2, CIFAR-10 Batch 5:  Loss:     1.8499 Training Accuracy: 0.361386 Validation Accuracy 0.346800\n",
      "Epoch  3, CIFAR-10 Batch 1:  Loss:     1.8160 Training Accuracy: 0.372525 Validation Accuracy 0.359000\n",
      "Epoch  3, CIFAR-10 Batch 2:  Loss:     1.7799 Training Accuracy: 0.399752 Validation Accuracy 0.393400\n",
      "Epoch  3, CIFAR-10 Batch 3:  Loss:     1.7231 Training Accuracy: 0.428218 Validation Accuracy 0.409200\n",
      "Epoch  3, CIFAR-10 Batch 4:  Loss:     1.6679 Training Accuracy: 0.415842 Validation Accuracy 0.401600\n",
      "Epoch  3, CIFAR-10 Batch 5:  Loss:     1.6858 Training Accuracy: 0.426980 Validation Accuracy 0.413200\n",
      "Epoch  4, CIFAR-10 Batch 1:  Loss:     1.7127 Training Accuracy: 0.407178 Validation Accuracy 0.386400\n",
      "Epoch  4, CIFAR-10 Batch 2:  Loss:     1.6220 Training Accuracy: 0.460396 Validation Accuracy 0.435800\n",
      "Epoch  4, CIFAR-10 Batch 3:  Loss:     1.5579 Training Accuracy: 0.475248 Validation Accuracy 0.439600\n",
      "Epoch  4, CIFAR-10 Batch 4:  Loss:     1.5305 Training Accuracy: 0.459158 Validation Accuracy 0.441400\n",
      "Epoch  4, CIFAR-10 Batch 5:  Loss:     1.5499 Training Accuracy: 0.461634 Validation Accuracy 0.448600\n",
      "Epoch  5, CIFAR-10 Batch 1:  Loss:     1.5444 Training Accuracy: 0.456683 Validation Accuracy 0.442200\n",
      "Epoch  5, CIFAR-10 Batch 2:  Loss:     1.5722 Training Accuracy: 0.460396 Validation Accuracy 0.454600\n",
      "Epoch  5, CIFAR-10 Batch 3:  Loss:     1.4750 Training Accuracy: 0.501238 Validation Accuracy 0.469000\n",
      "Epoch  5, CIFAR-10 Batch 4:  Loss:     1.4463 Training Accuracy: 0.501238 Validation Accuracy 0.465400\n",
      "Epoch  5, CIFAR-10 Batch 5:  Loss:     1.4701 Training Accuracy: 0.485149 Validation Accuracy 0.477000\n",
      "Epoch  6, CIFAR-10 Batch 1:  Loss:     1.4531 Training Accuracy: 0.522277 Validation Accuracy 0.485200\n",
      "Epoch  6, CIFAR-10 Batch 2:  Loss:     1.4471 Training Accuracy: 0.517327 Validation Accuracy 0.486800\n",
      "Epoch  6, CIFAR-10 Batch 3:  Loss:     1.3884 Training Accuracy: 0.527228 Validation Accuracy 0.490600\n",
      "Epoch  6, CIFAR-10 Batch 4:  Loss:     1.3914 Training Accuracy: 0.517327 Validation Accuracy 0.490200\n",
      "Epoch  6, CIFAR-10 Batch 5:  Loss:     1.3952 Training Accuracy: 0.503713 Validation Accuracy 0.495600\n",
      "Epoch  7, CIFAR-10 Batch 1:  Loss:     1.4010 Training Accuracy: 0.539604 Validation Accuracy 0.517200\n",
      "Epoch  7, CIFAR-10 Batch 2:  Loss:     1.3912 Training Accuracy: 0.534653 Validation Accuracy 0.510600\n",
      "Epoch  7, CIFAR-10 Batch 3:  Loss:     1.3423 Training Accuracy: 0.548267 Validation Accuracy 0.499800\n",
      "Epoch  7, CIFAR-10 Batch 4:  Loss:     1.3280 Training Accuracy: 0.532178 Validation Accuracy 0.512000\n",
      "Epoch  7, CIFAR-10 Batch 5:  Loss:     1.3267 Training Accuracy: 0.512376 Validation Accuracy 0.509400\n",
      "Epoch  8, CIFAR-10 Batch 1:  Loss:     1.3707 Training Accuracy: 0.523515 Validation Accuracy 0.507600\n",
      "Epoch  8, CIFAR-10 Batch 2:  Loss:     1.3560 Training Accuracy: 0.512376 Validation Accuracy 0.506400\n",
      "Epoch  8, CIFAR-10 Batch 3:  Loss:     1.2846 Training Accuracy: 0.564356 Validation Accuracy 0.526200\n",
      "Epoch  8, CIFAR-10 Batch 4:  Loss:     1.2743 Training Accuracy: 0.561881 Validation Accuracy 0.543800\n",
      "Epoch  8, CIFAR-10 Batch 5:  Loss:     1.2685 Training Accuracy: 0.548267 Validation Accuracy 0.533000\n",
      "Epoch  9, CIFAR-10 Batch 1:  Loss:     1.3208 Training Accuracy: 0.530941 Validation Accuracy 0.527200\n",
      "Epoch  9, CIFAR-10 Batch 2:  Loss:     1.2771 Training Accuracy: 0.551980 Validation Accuracy 0.541800\n",
      "Epoch  9, CIFAR-10 Batch 3:  Loss:     1.2329 Training Accuracy: 0.585396 Validation Accuracy 0.536800\n",
      "Epoch  9, CIFAR-10 Batch 4:  Loss:     1.2176 Training Accuracy: 0.576733 Validation Accuracy 0.550400\n",
      "Epoch  9, CIFAR-10 Batch 5:  Loss:     1.2388 Training Accuracy: 0.581683 Validation Accuracy 0.540200\n",
      "Epoch 10, CIFAR-10 Batch 1:  Loss:     1.2457 Training Accuracy: 0.586634 Validation Accuracy 0.556000\n",
      "Epoch 10, CIFAR-10 Batch 2:  Loss:     1.2199 Training Accuracy: 0.563119 Validation Accuracy 0.557200\n",
      "Epoch 10, CIFAR-10 Batch 3:  Loss:     1.1616 Training Accuracy: 0.600248 Validation Accuracy 0.557200\n",
      "Epoch 10, CIFAR-10 Batch 4:  Loss:     1.1904 Training Accuracy: 0.592822 Validation Accuracy 0.564600\n",
      "Epoch 10, CIFAR-10 Batch 5:  Loss:     1.1708 Training Accuracy: 0.594059 Validation Accuracy 0.560400\n",
      "Epoch 11, CIFAR-10 Batch 1:  Loss:     1.2252 Training Accuracy: 0.595297 Validation Accuracy 0.559800\n",
      "Epoch 11, CIFAR-10 Batch 2:  Loss:     1.1917 Training Accuracy: 0.580446 Validation Accuracy 0.566200\n",
      "Epoch 11, CIFAR-10 Batch 3:  Loss:     1.1355 Training Accuracy: 0.612624 Validation Accuracy 0.562800\n",
      "Epoch 11, CIFAR-10 Batch 4:  Loss:     1.1562 Training Accuracy: 0.597772 Validation Accuracy 0.569800\n",
      "Epoch 11, CIFAR-10 Batch 5:  Loss:     1.1162 Training Accuracy: 0.607673 Validation Accuracy 0.570800\n",
      "Epoch 12, CIFAR-10 Batch 1:  Loss:     1.2036 Training Accuracy: 0.595297 Validation Accuracy 0.565200\n",
      "Epoch 12, CIFAR-10 Batch 2:  Loss:     1.1803 Training Accuracy: 0.561881 Validation Accuracy 0.552600\n",
      "Epoch 12, CIFAR-10 Batch 3:  Loss:     1.1007 Training Accuracy: 0.623762 Validation Accuracy 0.573600\n",
      "Epoch 12, CIFAR-10 Batch 4:  Loss:     1.1127 Training Accuracy: 0.611386 Validation Accuracy 0.574000\n",
      "Epoch 12, CIFAR-10 Batch 5:  Loss:     1.1084 Training Accuracy: 0.617574 Validation Accuracy 0.571000\n"
     ]
    }
   ],
   "source": [
    "\"\"\"\n",
    "DON'T MODIFY ANYTHING IN THIS CELL\n",
    "\"\"\"\n",
    "save_model_path = './image_classification'\n",
    "\n",
    "print('Training...')\n",
    "with tf.Session() as sess:\n",
    "    # Initializing the variables\n",
    "    sess.run(tf.global_variables_initializer())\n",
    "    \n",
    "    # Training cycle\n",
    "    for epoch in range(epochs):\n",
    "        # Loop over all batches\n",
    "        n_batches = 5\n",
    "        for batch_i in range(1, n_batches + 1):\n",
    "            for batch_features, batch_labels in helper.load_preprocess_training_batch(batch_i, batch_size):\n",
    "                train_neural_network(sess, optimizer, keep_probability, batch_features, batch_labels)\n",
    "            print('Epoch {:>2}, CIFAR-10 Batch {}:  '.format(epoch + 1, batch_i), end='')\n",
    "            print_stats(sess, batch_features, batch_labels, cost, accuracy)\n",
    "            \n",
    "    # Save Model\n",
    "    saver = tf.train.Saver()\n",
    "    save_path = saver.save(sess, save_model_path)"
   ]
  },
  {
   "cell_type": "markdown",
   "metadata": {
    "deletable": true,
    "editable": true
   },
   "source": [
    "# Checkpoint\n",
    "The model has been saved to disk.\n",
    "## Test Model\n",
    "Test your model against the test dataset.  This will be your final accuracy. You should have an accuracy greater than 50%. If you don't, keep tweaking the model architecture and parameters."
   ]
  },
  {
   "cell_type": "code",
   "execution_count": 20,
   "metadata": {
    "collapsed": false,
    "deletable": true,
    "editable": true
   },
   "outputs": [
    {
     "name": "stdout",
     "output_type": "stream",
     "text": [
      "Testing Accuracy: 0.5708525955677033\n",
      "\n"
     ]
    },
    {
     "data": {
      "image/png": "[encoded data removed]",
      "text/plain": [
       "<matplotlib.figure.Figure at 0x7f715e2ee780>"
      ]
     },
     "metadata": {
      "image/png": {
       "height": 319,
       "width": 355
      }
     },
     "output_type": "display_data"
    }
   ],
   "source": [
    "\"\"\"\n",
    "DON'T MODIFY ANYTHING IN THIS CELL\n",
    "\"\"\"\n",
    "%matplotlib inline\n",
    "%config InlineBackend.figure_format = 'retina'\n",
    "\n",
    "import tensorflow as tf\n",
    "import pickle\n",
    "import helper\n",
    "import random\n",
    "\n",
    "# Set batch size if not already set\n",
    "try:\n",
    "    if batch_size:\n",
    "        pass\n",
    "except NameError:\n",
    "    batch_size = 64\n",
    "\n",
    "save_model_path = './image_classification'\n",
    "n_samples = 4\n",
    "top_n_predictions = 3\n",
    "\n",
    "def test_model():\n",
    "    \"\"\"\n",
    "    Test the saved model against the test dataset\n",
    "    \"\"\"\n",
    "\n",
    "    test_features, test_labels = pickle.load(open('preprocess_training.p', mode='rb'))\n",
    "    loaded_graph = tf.Graph()\n",
    "\n",
    "    with tf.Session(graph=loaded_graph) as sess:\n",
    "        # Load model\n",
    "        loader = tf.train.import_meta_graph(save_model_path + '.meta')\n",
    "        loader.restore(sess, save_model_path)\n",
    "\n",
    "        # Get Tensors from loaded model\n",
    "        loaded_x = loaded_graph.get_tensor_by_name('x:0')\n",
    "        loaded_y = loaded_graph.get_tensor_by_name('y:0')\n",
    "        loaded_keep_prob = loaded_graph.get_tensor_by_name('keep_prob:0')\n",
    "        loaded_logits = loaded_graph.get_tensor_by_name('logits:0')\n",
    "        loaded_acc = loaded_graph.get_tensor_by_name('accuracy:0')\n",
    "        \n",
    "        # Get accuracy in batches for memory limitations\n",
    "        test_batch_acc_total = 0\n",
    "        test_batch_count = 0\n",
    "        \n",
    "        for train_feature_batch, train_label_batch in helper.batch_features_labels(test_features, test_labels, batch_size):\n",
    "            test_batch_acc_total += sess.run(\n",
    "                loaded_acc,\n",
    "                feed_dict={loaded_x: train_feature_batch, loaded_y: train_label_batch, loaded_keep_prob: 1.0})\n",
    "            test_batch_count += 1\n",
    "\n",
    "        print('Testing Accuracy: {}\\n'.format(test_batch_acc_total/test_batch_count))\n",
    "\n",
    "        # Print Random Samples\n",
    "        random_test_features, random_test_labels = tuple(zip(*random.sample(list(zip(test_features, test_labels)), n_samples)))\n",
    "        random_test_predictions = sess.run(\n",
    "            tf.nn.top_k(tf.nn.softmax(loaded_logits), top_n_predictions),\n",
    "            feed_dict={loaded_x: random_test_features, loaded_y: random_test_labels, loaded_keep_prob: 1.0})\n",
    "        helper.display_image_predictions(random_test_features, random_test_labels, random_test_predictions)\n",
    "\n",
    "\n",
    "test_model()"
   ]
  },
  {
   "cell_type": "markdown",
   "metadata": {
    "deletable": true,
    "editable": true
   },
   "source": [
    "## Why 50-70% Accuracy?\n",
    "You might be wondering why you can't get an accuracy any higher. First things first, 50% isn't bad for a simple CNN.  Pure guessing would get you 10% accuracy. However, you might notice people are getting scores [well above 70%](http://rodrigob.github.io/are_we_there_yet/build/classification_datasets_results.html#43494641522d3130).  That's because we haven't taught you all there is to know about neural networks. We still need to cover a few more techniques.\n",
    "## Submitting This Project\n",
    "When submitting this project, make sure to run all the cells before saving the notebook.  Save the notebook file as \"dlnd_image_classification.ipynb\" and save it as a HTML file under \"File\" -> \"Download as\".  Include the \"helper.py\" and \"problem_unittests.py\" files in your submission."
   ]
  },
  {
   "cell_type": "code",
   "execution_count": null,
   "metadata": {
    "collapsed": false,
    "scrolled": true
   },
   "outputs": [],
   "source": []
  },
  {
   "cell_type": "code",
   "execution_count": null,
   "metadata": {
    "collapsed": true
   },
   "outputs": [],
   "source": []
  }
 ],
 "metadata": {
  "kernelspec": {
   "display_name": "Python [default]",
   "language": "python",
   "name": "python3"
  },
  "language_info": {
   "codemirror_mode": {
    "name": "ipython",
    "version": 3
   },
   "file_extension": ".py",
   "mimetype": "text/x-python",
   "name": "python",
   "nbconvert_exporter": "python",
   "pygments_lexer": "ipython3",
   "version": "3.5.2"
  }
 },
 "nbformat": 4,
 "nbformat_minor": 0
}
